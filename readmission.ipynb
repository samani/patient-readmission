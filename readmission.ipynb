{
 "cells": [
  {
   "cell_type": "code",
   "execution_count": 2,
   "metadata": {},
   "outputs": [],
   "source": [
    "# import libraries\n",
    "import time\n",
    "import pandas as pd\n",
    "import numpy as np\n",
    "import string\n",
    "from nltk import word_tokenize\n",
    "\n",
    "from sklearn.feature_extraction.text import CountVectorizer\n",
    "from sklearn.metrics import roc_auc_score, accuracy_score, precision_score, recall_score, make_scorer, roc_auc_score\n",
    "from sklearn.linear_model import LogisticRegression\n",
    "from sklearn.neighbors import KNeighborsClassifier\n",
    "from sklearn.ensemble import RandomForestClassifier\n",
    "from sklearn.linear_model import SGDClassifier\n",
    "from sklearn.naive_bayes import GaussianNB\n",
    "from sklearn.ensemble import GradientBoostingClassifier\n",
    "from sklearn.tree import DecisionTreeClassifier\n",
    "\n",
    "from sklearn.model_selection import RandomizedSearchCV\n",
    "\n",
    "import matplotlib\n",
    "import matplotlib.pyplot as plt\n",
    "import seaborn as sns\n",
    "%matplotlib inline\n",
    "matplotlib.style.use('ggplot')"
   ]
  },
  {
   "cell_type": "code",
   "execution_count": 3,
   "metadata": {},
   "outputs": [
    {
     "data": {
      "text/html": [
       "<div>\n",
       "<style scoped>\n",
       "    .dataframe tbody tr th:only-of-type {\n",
       "        vertical-align: middle;\n",
       "    }\n",
       "\n",
       "    .dataframe tbody tr th {\n",
       "        vertical-align: top;\n",
       "    }\n",
       "\n",
       "    .dataframe thead th {\n",
       "        text-align: right;\n",
       "    }\n",
       "</style>\n",
       "<table border=\"1\" class=\"dataframe\">\n",
       "  <thead>\n",
       "    <tr style=\"text-align: right;\">\n",
       "      <th></th>\n",
       "      <th>ROW_ID</th>\n",
       "      <th>SUBJECT_ID</th>\n",
       "      <th>HADM_ID</th>\n",
       "      <th>ADMITTIME</th>\n",
       "      <th>DISCHTIME</th>\n",
       "      <th>DEATHTIME</th>\n",
       "      <th>ADMISSION_TYPE</th>\n",
       "      <th>ADMISSION_LOCATION</th>\n",
       "      <th>DISCHARGE_LOCATION</th>\n",
       "      <th>INSURANCE</th>\n",
       "      <th>LANGUAGE</th>\n",
       "      <th>RELIGION</th>\n",
       "      <th>MARITAL_STATUS</th>\n",
       "      <th>ETHNICITY</th>\n",
       "      <th>EDREGTIME</th>\n",
       "      <th>EDOUTTIME</th>\n",
       "      <th>DIAGNOSIS</th>\n",
       "      <th>HOSPITAL_EXPIRE_FLAG</th>\n",
       "      <th>HAS_CHARTEVENTS_DATA</th>\n",
       "    </tr>\n",
       "  </thead>\n",
       "  <tbody>\n",
       "    <tr>\n",
       "      <th>0</th>\n",
       "      <td>21</td>\n",
       "      <td>22</td>\n",
       "      <td>165315</td>\n",
       "      <td>2196-04-09 12:26:00</td>\n",
       "      <td>2196-04-10 15:54:00</td>\n",
       "      <td>NaN</td>\n",
       "      <td>EMERGENCY</td>\n",
       "      <td>EMERGENCY ROOM ADMIT</td>\n",
       "      <td>DISC-TRAN CANCER/CHLDRN H</td>\n",
       "      <td>Private</td>\n",
       "      <td>NaN</td>\n",
       "      <td>UNOBTAINABLE</td>\n",
       "      <td>MARRIED</td>\n",
       "      <td>WHITE</td>\n",
       "      <td>2196-04-09 10:06:00</td>\n",
       "      <td>2196-04-09 13:24:00</td>\n",
       "      <td>BENZODIAZEPINE OVERDOSE</td>\n",
       "      <td>0</td>\n",
       "      <td>1</td>\n",
       "    </tr>\n",
       "    <tr>\n",
       "      <th>1</th>\n",
       "      <td>22</td>\n",
       "      <td>23</td>\n",
       "      <td>152223</td>\n",
       "      <td>2153-09-03 07:15:00</td>\n",
       "      <td>2153-09-08 19:10:00</td>\n",
       "      <td>NaN</td>\n",
       "      <td>ELECTIVE</td>\n",
       "      <td>PHYS REFERRAL/NORMAL DELI</td>\n",
       "      <td>HOME HEALTH CARE</td>\n",
       "      <td>Medicare</td>\n",
       "      <td>NaN</td>\n",
       "      <td>CATHOLIC</td>\n",
       "      <td>MARRIED</td>\n",
       "      <td>WHITE</td>\n",
       "      <td>NaN</td>\n",
       "      <td>NaN</td>\n",
       "      <td>CORONARY ARTERY DISEASE\\CORONARY ARTERY BYPASS...</td>\n",
       "      <td>0</td>\n",
       "      <td>1</td>\n",
       "    </tr>\n",
       "    <tr>\n",
       "      <th>2</th>\n",
       "      <td>23</td>\n",
       "      <td>23</td>\n",
       "      <td>124321</td>\n",
       "      <td>2157-10-18 19:34:00</td>\n",
       "      <td>2157-10-25 14:00:00</td>\n",
       "      <td>NaN</td>\n",
       "      <td>EMERGENCY</td>\n",
       "      <td>TRANSFER FROM HOSP/EXTRAM</td>\n",
       "      <td>HOME HEALTH CARE</td>\n",
       "      <td>Medicare</td>\n",
       "      <td>ENGL</td>\n",
       "      <td>CATHOLIC</td>\n",
       "      <td>MARRIED</td>\n",
       "      <td>WHITE</td>\n",
       "      <td>NaN</td>\n",
       "      <td>NaN</td>\n",
       "      <td>BRAIN MASS</td>\n",
       "      <td>0</td>\n",
       "      <td>1</td>\n",
       "    </tr>\n",
       "    <tr>\n",
       "      <th>3</th>\n",
       "      <td>24</td>\n",
       "      <td>24</td>\n",
       "      <td>161859</td>\n",
       "      <td>2139-06-06 16:14:00</td>\n",
       "      <td>2139-06-09 12:48:00</td>\n",
       "      <td>NaN</td>\n",
       "      <td>EMERGENCY</td>\n",
       "      <td>TRANSFER FROM HOSP/EXTRAM</td>\n",
       "      <td>HOME</td>\n",
       "      <td>Private</td>\n",
       "      <td>NaN</td>\n",
       "      <td>PROTESTANT QUAKER</td>\n",
       "      <td>SINGLE</td>\n",
       "      <td>WHITE</td>\n",
       "      <td>NaN</td>\n",
       "      <td>NaN</td>\n",
       "      <td>INTERIOR MYOCARDIAL INFARCTION</td>\n",
       "      <td>0</td>\n",
       "      <td>1</td>\n",
       "    </tr>\n",
       "    <tr>\n",
       "      <th>4</th>\n",
       "      <td>25</td>\n",
       "      <td>25</td>\n",
       "      <td>129635</td>\n",
       "      <td>2160-11-02 02:06:00</td>\n",
       "      <td>2160-11-05 14:55:00</td>\n",
       "      <td>NaN</td>\n",
       "      <td>EMERGENCY</td>\n",
       "      <td>EMERGENCY ROOM ADMIT</td>\n",
       "      <td>HOME</td>\n",
       "      <td>Private</td>\n",
       "      <td>NaN</td>\n",
       "      <td>UNOBTAINABLE</td>\n",
       "      <td>MARRIED</td>\n",
       "      <td>WHITE</td>\n",
       "      <td>2160-11-02 01:01:00</td>\n",
       "      <td>2160-11-02 04:27:00</td>\n",
       "      <td>ACUTE CORONARY SYNDROME</td>\n",
       "      <td>0</td>\n",
       "      <td>1</td>\n",
       "    </tr>\n",
       "  </tbody>\n",
       "</table>\n",
       "</div>"
      ],
      "text/plain": [
       "   ROW_ID  SUBJECT_ID  HADM_ID            ADMITTIME            DISCHTIME  \\\n",
       "0      21          22   165315  2196-04-09 12:26:00  2196-04-10 15:54:00   \n",
       "1      22          23   152223  2153-09-03 07:15:00  2153-09-08 19:10:00   \n",
       "2      23          23   124321  2157-10-18 19:34:00  2157-10-25 14:00:00   \n",
       "3      24          24   161859  2139-06-06 16:14:00  2139-06-09 12:48:00   \n",
       "4      25          25   129635  2160-11-02 02:06:00  2160-11-05 14:55:00   \n",
       "\n",
       "  DEATHTIME ADMISSION_TYPE         ADMISSION_LOCATION  \\\n",
       "0       NaN      EMERGENCY       EMERGENCY ROOM ADMIT   \n",
       "1       NaN       ELECTIVE  PHYS REFERRAL/NORMAL DELI   \n",
       "2       NaN      EMERGENCY  TRANSFER FROM HOSP/EXTRAM   \n",
       "3       NaN      EMERGENCY  TRANSFER FROM HOSP/EXTRAM   \n",
       "4       NaN      EMERGENCY       EMERGENCY ROOM ADMIT   \n",
       "\n",
       "          DISCHARGE_LOCATION INSURANCE LANGUAGE           RELIGION  \\\n",
       "0  DISC-TRAN CANCER/CHLDRN H   Private      NaN       UNOBTAINABLE   \n",
       "1           HOME HEALTH CARE  Medicare      NaN           CATHOLIC   \n",
       "2           HOME HEALTH CARE  Medicare     ENGL           CATHOLIC   \n",
       "3                       HOME   Private      NaN  PROTESTANT QUAKER   \n",
       "4                       HOME   Private      NaN       UNOBTAINABLE   \n",
       "\n",
       "  MARITAL_STATUS ETHNICITY            EDREGTIME            EDOUTTIME  \\\n",
       "0        MARRIED     WHITE  2196-04-09 10:06:00  2196-04-09 13:24:00   \n",
       "1        MARRIED     WHITE                  NaN                  NaN   \n",
       "2        MARRIED     WHITE                  NaN                  NaN   \n",
       "3         SINGLE     WHITE                  NaN                  NaN   \n",
       "4        MARRIED     WHITE  2160-11-02 01:01:00  2160-11-02 04:27:00   \n",
       "\n",
       "                                           DIAGNOSIS  HOSPITAL_EXPIRE_FLAG  \\\n",
       "0                            BENZODIAZEPINE OVERDOSE                     0   \n",
       "1  CORONARY ARTERY DISEASE\\CORONARY ARTERY BYPASS...                     0   \n",
       "2                                         BRAIN MASS                     0   \n",
       "3                     INTERIOR MYOCARDIAL INFARCTION                     0   \n",
       "4                            ACUTE CORONARY SYNDROME                     0   \n",
       "\n",
       "   HAS_CHARTEVENTS_DATA  \n",
       "0                     1  \n",
       "1                     1  \n",
       "2                     1  \n",
       "3                     1  \n",
       "4                     1  "
      ]
     },
     "execution_count": 3,
     "metadata": {},
     "output_type": "execute_result"
    }
   ],
   "source": [
    "# load data from MIMIC\n",
    "df_adm = pd.read_csv('../MMIC3/ADMISSIONS.csv')\n",
    "df_adm.head()"
   ]
  },
  {
   "cell_type": "code",
   "execution_count": 9,
   "metadata": {},
   "outputs": [],
   "source": [
    "# format dates\n",
    "df_adm.ADMITTIME = pd.to_datetime(df_adm.ADMITTIME, format='%Y-%m-%d %H:%M:%S', errors='coerce')\n",
    "df_adm.DISCHTIME = pd.to_datetime(df_adm.DISCHTIME, format='%Y-%m-%d %H:%M:%S', errors='coerce')\n",
    "df_adm.DEATHTIME = pd.to_datetime(df_adm.DEATHTIME, format='%Y-%m-%d %H:%M:%S', errors='coerce')\n",
    "\n",
    "# sort by subject_ID and admission date\n",
    "df_adm = df_adm.sort_values(['SUBJECT_ID', 'ADMITTIME'])\n",
    "df_adm = df_adm.reset_index(drop=True)\n",
    "\n",
    "# add next admission date and type for each subject using groupby\n",
    "df_adm['NEXT_ADMITTIME'] = df_adm.groupby('SUBJECT_ID').ADMITTIME.shift(-1)\n",
    "df_adm['NEXT_ADMISSION_TYPE'] = df_adm.groupby('SUBJECT_ID').ADMISSION_TYPE.shift(-1)\n",
    "\n",
    "# get rows where next admission is elective and replace with nan\n",
    "rows = df_adm.NEXT_ADMISSION_TYPE == 'ELECTIVE'\n",
    "df_adm.loc[rows, 'NEXT_ADMITTIME'] = pd.NaT\n",
    "df_adm.loc[rows, 'NEXT_ADMISSION_TYPE'] = np.NaN\n",
    "\n",
    "# sort by subject_ID and admission date\n",
    "df_adm = df_adm.sort_values(['SUBJECT_ID', 'ADMITTIME'])\n",
    "df_adm[['NEXT_ADMITTIME', 'NEXT_ADMISSION_TYPE']] = df_adm.groupby(['SUBJECT_ID'])[\n",
    "    ['NEXT_ADMITTIME', 'NEXT_ADMISSION_TYPE']].fillna(method='bfill')\n",
    "\n",
    "# calculate days until next admission\n",
    "df_adm['DAYS_NEXT_ADMIT'] = (df_adm.NEXT_ADMITTIME - df_adm.DISCHTIME).dt.total_seconds() / (24 * 60 * 60)"
   ]
  },
  {
   "cell_type": "code",
   "execution_count": 11,
   "metadata": {},
   "outputs": [
    {
     "data": {
      "image/png": "[encoded data removed]",
      "text/plain": [
       "<Figure size 432x288 with 1 Axes>"
      ]
     },
     "metadata": {
      "needs_background": "light"
     },
     "output_type": "display_data"
    }
   ],
   "source": [
    "plt.hist(df_adm.loc[~df_adm.DAYS_NEXT_ADMIT.isnull(), 'DAYS_NEXT_ADMIT'], bins=range(0, 365, 30))\n",
    "plt.xlim([0, 365])\n",
    "plt.xlabel('Days')\n",
    "plt.ylabel('Counts')\n",
    "plt.show()"
   ]
  },
  {
   "cell_type": "code",
   "execution_count": 12,
   "metadata": {},
   "outputs": [
    {
     "name": "stderr",
     "output_type": "stream",
     "text": [
      "/home/rasool/anaconda3/lib/python3.5/site-packages/IPython/core/interactiveshell.py:2785: DtypeWarning: Columns (4,5) have mixed types. Specify dtype option on import or set low_memory=False.\n",
      "  interactivity=interactivity, compiler=compiler, result=result)\n"
     ]
    }
   ],
   "source": [
    "# load Clinical notes from MIMIC\n",
    "df_notes = pd.read_csv(\"../MMIC3/NOTEEVENTS.csv\")"
   ]
  },
  {
   "cell_type": "code",
   "execution_count": 14,
   "metadata": {},
   "outputs": [
    {
     "data": {
      "text/plain": [
       "array(['Discharge summary', 'Echo', 'ECG', 'Nursing', 'Physician ',\n",
       "       'Rehab Services', 'Case Management ', 'Respiratory ', 'Nutrition',\n",
       "       'General', 'Social Work', 'Pharmacy', 'Consult', 'Radiology',\n",
       "       'Nursing/other'], dtype=object)"
      ]
     },
     "execution_count": 14,
     "metadata": {},
     "output_type": "execute_result"
    }
   ],
   "source": [
    "# Clinical notes types\n",
    "df_notes.CATEGORY.unique()"
   ]
  },
  {
   "cell_type": "code",
   "execution_count": 15,
   "metadata": {},
   "outputs": [
    {
     "data": {
      "text/html": [
       "<div>\n",
       "<style scoped>\n",
       "    .dataframe tbody tr th:only-of-type {\n",
       "        vertical-align: middle;\n",
       "    }\n",
       "\n",
       "    .dataframe tbody tr th {\n",
       "        vertical-align: top;\n",
       "    }\n",
       "\n",
       "    .dataframe thead th {\n",
       "        text-align: right;\n",
       "    }\n",
       "</style>\n",
       "<table border=\"1\" class=\"dataframe\">\n",
       "  <thead>\n",
       "    <tr style=\"text-align: right;\">\n",
       "      <th></th>\n",
       "      <th>0</th>\n",
       "      <th>1</th>\n",
       "      <th>2</th>\n",
       "      <th>3</th>\n",
       "      <th>4</th>\n",
       "    </tr>\n",
       "  </thead>\n",
       "  <tbody>\n",
       "    <tr>\n",
       "      <th>ROW_ID</th>\n",
       "      <td>174</td>\n",
       "      <td>175</td>\n",
       "      <td>176</td>\n",
       "      <td>177</td>\n",
       "      <td>178</td>\n",
       "    </tr>\n",
       "    <tr>\n",
       "      <th>SUBJECT_ID</th>\n",
       "      <td>22532</td>\n",
       "      <td>13702</td>\n",
       "      <td>13702</td>\n",
       "      <td>13702</td>\n",
       "      <td>26880</td>\n",
       "    </tr>\n",
       "    <tr>\n",
       "      <th>HADM_ID</th>\n",
       "      <td>167853</td>\n",
       "      <td>107527</td>\n",
       "      <td>167118</td>\n",
       "      <td>196489</td>\n",
       "      <td>135453</td>\n",
       "    </tr>\n",
       "    <tr>\n",
       "      <th>CHARTDATE</th>\n",
       "      <td>2151-08-04</td>\n",
       "      <td>2118-06-14</td>\n",
       "      <td>2119-05-25</td>\n",
       "      <td>2124-08-18</td>\n",
       "      <td>2162-03-25</td>\n",
       "    </tr>\n",
       "    <tr>\n",
       "      <th>CHARTTIME</th>\n",
       "      <td>NaN</td>\n",
       "      <td>NaN</td>\n",
       "      <td>NaN</td>\n",
       "      <td>NaN</td>\n",
       "      <td>NaN</td>\n",
       "    </tr>\n",
       "    <tr>\n",
       "      <th>STORETIME</th>\n",
       "      <td>NaN</td>\n",
       "      <td>NaN</td>\n",
       "      <td>NaN</td>\n",
       "      <td>NaN</td>\n",
       "      <td>NaN</td>\n",
       "    </tr>\n",
       "    <tr>\n",
       "      <th>CATEGORY</th>\n",
       "      <td>Discharge summary</td>\n",
       "      <td>Discharge summary</td>\n",
       "      <td>Discharge summary</td>\n",
       "      <td>Discharge summary</td>\n",
       "      <td>Discharge summary</td>\n",
       "    </tr>\n",
       "    <tr>\n",
       "      <th>DESCRIPTION</th>\n",
       "      <td>Report</td>\n",
       "      <td>Report</td>\n",
       "      <td>Report</td>\n",
       "      <td>Report</td>\n",
       "      <td>Report</td>\n",
       "    </tr>\n",
       "    <tr>\n",
       "      <th>CGID</th>\n",
       "      <td>NaN</td>\n",
       "      <td>NaN</td>\n",
       "      <td>NaN</td>\n",
       "      <td>NaN</td>\n",
       "      <td>NaN</td>\n",
       "    </tr>\n",
       "    <tr>\n",
       "      <th>ISERROR</th>\n",
       "      <td>NaN</td>\n",
       "      <td>NaN</td>\n",
       "      <td>NaN</td>\n",
       "      <td>NaN</td>\n",
       "      <td>NaN</td>\n",
       "    </tr>\n",
       "    <tr>\n",
       "      <th>TEXT</th>\n",
       "      <td>Admission Date:  [**2151-7-16**]       Dischar...</td>\n",
       "      <td>Admission Date:  [**2118-6-2**]       Discharg...</td>\n",
       "      <td>Admission Date:  [**2119-5-4**]              D...</td>\n",
       "      <td>Admission Date:  [**2124-7-21**]              ...</td>\n",
       "      <td>Admission Date:  [**2162-3-3**]              D...</td>\n",
       "    </tr>\n",
       "  </tbody>\n",
       "</table>\n",
       "</div>"
      ],
      "text/plain": [
       "                                                             0  \\\n",
       "ROW_ID                                                     174   \n",
       "SUBJECT_ID                                               22532   \n",
       "HADM_ID                                                 167853   \n",
       "CHARTDATE                                           2151-08-04   \n",
       "CHARTTIME                                                  NaN   \n",
       "STORETIME                                                  NaN   \n",
       "CATEGORY                                     Discharge summary   \n",
       "DESCRIPTION                                             Report   \n",
       "CGID                                                       NaN   \n",
       "ISERROR                                                    NaN   \n",
       "TEXT         Admission Date:  [**2151-7-16**]       Dischar...   \n",
       "\n",
       "                                                             1  \\\n",
       "ROW_ID                                                     175   \n",
       "SUBJECT_ID                                               13702   \n",
       "HADM_ID                                                 107527   \n",
       "CHARTDATE                                           2118-06-14   \n",
       "CHARTTIME                                                  NaN   \n",
       "STORETIME                                                  NaN   \n",
       "CATEGORY                                     Discharge summary   \n",
       "DESCRIPTION                                             Report   \n",
       "CGID                                                       NaN   \n",
       "ISERROR                                                    NaN   \n",
       "TEXT         Admission Date:  [**2118-6-2**]       Discharg...   \n",
       "\n",
       "                                                             2  \\\n",
       "ROW_ID                                                     176   \n",
       "SUBJECT_ID                                               13702   \n",
       "HADM_ID                                                 167118   \n",
       "CHARTDATE                                           2119-05-25   \n",
       "CHARTTIME                                                  NaN   \n",
       "STORETIME                                                  NaN   \n",
       "CATEGORY                                     Discharge summary   \n",
       "DESCRIPTION                                             Report   \n",
       "CGID                                                       NaN   \n",
       "ISERROR                                                    NaN   \n",
       "TEXT         Admission Date:  [**2119-5-4**]              D...   \n",
       "\n",
       "                                                             3  \\\n",
       "ROW_ID                                                     177   \n",
       "SUBJECT_ID                                               13702   \n",
       "HADM_ID                                                 196489   \n",
       "CHARTDATE                                           2124-08-18   \n",
       "CHARTTIME                                                  NaN   \n",
       "STORETIME                                                  NaN   \n",
       "CATEGORY                                     Discharge summary   \n",
       "DESCRIPTION                                             Report   \n",
       "CGID                                                       NaN   \n",
       "ISERROR                                                    NaN   \n",
       "TEXT         Admission Date:  [**2124-7-21**]              ...   \n",
       "\n",
       "                                                             4  \n",
       "ROW_ID                                                     178  \n",
       "SUBJECT_ID                                               26880  \n",
       "HADM_ID                                                 135453  \n",
       "CHARTDATE                                           2162-03-25  \n",
       "CHARTTIME                                                  NaN  \n",
       "STORETIME                                                  NaN  \n",
       "CATEGORY                                     Discharge summary  \n",
       "DESCRIPTION                                             Report  \n",
       "CGID                                                       NaN  \n",
       "ISERROR                                                    NaN  \n",
       "TEXT         Admission Date:  [**2162-3-3**]              D...  "
      ]
     },
     "execution_count": 15,
     "metadata": {},
     "output_type": "execute_result"
    }
   ],
   "source": [
    "df_notes.head().T"
   ]
  },
  {
   "cell_type": "code",
   "execution_count": 17,
   "metadata": {},
   "outputs": [],
   "source": [
    "# filter to discharge summary\n",
    "df_notes_dis_sum = df_notes.loc[df_notes.CATEGORY == 'Discharge summary']\n",
    "df_notes_dis_sum_last = (df_notes_dis_sum.groupby(['SUBJECT_ID', 'HADM_ID']).nth(-1)).reset_index()\n",
    "\n",
    "# join admission and discharge summary\n",
    "df_adm_notes = pd.merge(df_adm[['SUBJECT_ID', 'HADM_ID', 'ADMITTIME', 'DISCHTIME', 'DAYS_NEXT_ADMIT', 'NEXT_ADMITTIME',\n",
    "                                'ADMISSION_TYPE', 'DEATHTIME']],\n",
    "                        df_notes_dis_sum_last[['SUBJECT_ID', 'HADM_ID', 'TEXT']],\n",
    "                        on=['SUBJECT_ID', 'HADM_ID'],\n",
    "                        how='left')\n",
    "\n",
    "df_adm_notes.groupby('ADMISSION_TYPE').apply(lambda g: g.TEXT.isnull().sum()) / df_adm_notes.groupby(\n",
    "    'ADMISSION_TYPE').size()\n",
    "df_adm_notes_clean = df_adm_notes.loc[df_adm_notes.ADMISSION_TYPE != 'NEWBORN'].copy()\n",
    "\n",
    "# set label based on 30 Days readmission\n",
    "df_adm_notes_clean['OUTPUT_LABEL'] = (df_adm_notes_clean.DAYS_NEXT_ADMIT < 30).astype('int')"
   ]
  },
  {
   "cell_type": "code",
   "execution_count": 22,
   "metadata": {},
   "outputs": [
    {
     "name": "stdout",
     "output_type": "stream",
     "text": [
      "positive samples: 3004\n",
      "negative samples: 48109\n",
      "Total samples: 51113\n"
     ]
    }
   ],
   "source": [
    "print('positive samples:', (df_adm_notes_clean.OUTPUT_LABEL == 1).sum())\n",
    "print('negative samples:', (df_adm_notes_clean.OUTPUT_LABEL == 0).sum())\n",
    "print('Total samples:', len(df_adm_notes_clean))"
   ]
  },
  {
   "cell_type": "code",
   "execution_count": 23,
   "metadata": {},
   "outputs": [],
   "source": [
    "# split data into train, validation and test\n",
    "df_adm_notes_clean = df_adm_notes_clean.sample(n=len(df_adm_notes_clean), random_state=42)\n",
    "df_adm_notes_clean = df_adm_notes_clean.reset_index(drop=True)\n",
    "df_valid_test = df_adm_notes_clean.sample(frac=0.30, random_state=42)\n",
    "\n",
    "df_test = df_valid_test.sample(frac=0.5, random_state=42)\n",
    "df_valid = df_valid_test.drop(df_test.index)\n",
    "df_train_all = df_adm_notes_clean.drop(df_valid_test.index)\n",
    "\n",
    "rows_pos = df_train_all.OUTPUT_LABEL == 1\n",
    "df_train_pos = df_train_all.loc[rows_pos]\n",
    "df_train_neg = df_train_all.loc[~rows_pos]\n",
    "\n",
    "df_train = pd.concat([df_train_pos, df_train_neg.sample(n=len(df_train_pos), random_state=42)], axis=0)\n",
    "df_train = df_train.sample(n=len(df_train), random_state=42).reset_index(drop=True)"
   ]
  },
  {
   "cell_type": "code",
   "execution_count": 26,
   "metadata": {},
   "outputs": [],
   "source": [
    "def preprocess_text(df):\n",
    "    df.TEXT = df.TEXT.fillna(' ')\n",
    "    df.TEXT = df.TEXT.str.replace('\\n', ' ')\n",
    "    df.TEXT = df.TEXT.str.replace('\\r', ' ')\n",
    "    return df\n",
    "\n",
    "\n",
    "def tokenizer_better(text):\n",
    "    punc_list = string.punctuation + '0123456789'\n",
    "    t = str.maketrans(dict.fromkeys(punc_list, \" \"))\n",
    "    text = text.lower().translate(t)\n",
    "    tokens = word_tokenize(text)\n",
    "    return tokens"
   ]
  },
  {
   "cell_type": "code",
   "execution_count": 27,
   "metadata": {},
   "outputs": [],
   "source": [
    "df_train = preprocess_text(df_train)\n",
    "df_valid = preprocess_text(df_valid)\n",
    "df_test = preprocess_text(df_test)"
   ]
  },
  {
   "cell_type": "code",
   "execution_count": 32,
   "metadata": {},
   "outputs": [
    {
     "data": {
      "text/plain": [
       "CountVectorizer(analyzer='word', binary=False, decode_error='strict',\n",
       "        dtype=<class 'numpy.int64'>, encoding='utf-8', input='content',\n",
       "        lowercase=True, max_df=1.0, max_features=3000, min_df=1,\n",
       "        ngram_range=(1, 1), preprocessor=None, stop_words=None,\n",
       "        strip_accents=None, token_pattern='(?u)\\\\b\\\\w\\\\w+\\\\b',\n",
       "        tokenizer=<function tokenizer_better at 0x7f0d17ffc9d8>,\n",
       "        vocabulary=None)"
      ]
     },
     "execution_count": 32,
     "metadata": {},
     "output_type": "execute_result"
    }
   ],
   "source": [
    "# bag of words\n",
    "vect = CountVectorizer(max_features=3000, tokenizer=tokenizer_better)\n",
    "vect.fit(df_train.TEXT.values)"
   ]
  },
  {
   "cell_type": "code",
   "execution_count": 33,
   "metadata": {},
   "outputs": [
    {
     "data": {
      "text/html": [
       "<div>\n",
       "<style scoped>\n",
       "    .dataframe tbody tr th:only-of-type {\n",
       "        vertical-align: middle;\n",
       "    }\n",
       "\n",
       "    .dataframe tbody tr th {\n",
       "        vertical-align: top;\n",
       "    }\n",
       "\n",
       "    .dataframe thead th {\n",
       "        text-align: right;\n",
       "    }\n",
       "</style>\n",
       "<table border=\"1\" class=\"dataframe\">\n",
       "  <thead>\n",
       "    <tr style=\"text-align: right;\">\n",
       "      <th></th>\n",
       "      <th>negative</th>\n",
       "      <th>positive</th>\n",
       "      <th>total</th>\n",
       "    </tr>\n",
       "  </thead>\n",
       "  <tbody>\n",
       "    <tr>\n",
       "      <th>the</th>\n",
       "      <td>71054</td>\n",
       "      <td>76756</td>\n",
       "      <td>147810</td>\n",
       "    </tr>\n",
       "    <tr>\n",
       "      <th>and</th>\n",
       "      <td>62455</td>\n",
       "      <td>71658</td>\n",
       "      <td>134113</td>\n",
       "    </tr>\n",
       "    <tr>\n",
       "      <th>to</th>\n",
       "      <td>53226</td>\n",
       "      <td>62085</td>\n",
       "      <td>115311</td>\n",
       "    </tr>\n",
       "    <tr>\n",
       "      <th>of</th>\n",
       "      <td>51303</td>\n",
       "      <td>60491</td>\n",
       "      <td>111794</td>\n",
       "    </tr>\n",
       "    <tr>\n",
       "      <th>was</th>\n",
       "      <td>48074</td>\n",
       "      <td>53521</td>\n",
       "      <td>101595</td>\n",
       "    </tr>\n",
       "    <tr>\n",
       "      <th>with</th>\n",
       "      <td>38036</td>\n",
       "      <td>44583</td>\n",
       "      <td>82619</td>\n",
       "    </tr>\n",
       "    <tr>\n",
       "      <th>a</th>\n",
       "      <td>35428</td>\n",
       "      <td>41629</td>\n",
       "      <td>77057</td>\n",
       "    </tr>\n",
       "    <tr>\n",
       "      <th>on</th>\n",
       "      <td>32290</td>\n",
       "      <td>39765</td>\n",
       "      <td>72055</td>\n",
       "    </tr>\n",
       "    <tr>\n",
       "      <th>mg</th>\n",
       "      <td>27718</td>\n",
       "      <td>39045</td>\n",
       "      <td>66763</td>\n",
       "    </tr>\n",
       "    <tr>\n",
       "      <th>in</th>\n",
       "      <td>29567</td>\n",
       "      <td>34755</td>\n",
       "      <td>64322</td>\n",
       "    </tr>\n",
       "  </tbody>\n",
       "</table>\n",
       "</div>"
      ],
      "text/plain": [
       "      negative  positive   total\n",
       "the      71054     76756  147810\n",
       "and      62455     71658  134113\n",
       "to       53226     62085  115311\n",
       "of       51303     60491  111794\n",
       "was      48074     53521  101595\n",
       "with     38036     44583   82619\n",
       "a        35428     41629   77057\n",
       "on       32290     39765   72055\n",
       "mg       27718     39045   66763\n",
       "in       29567     34755   64322"
      ]
     },
     "execution_count": 33,
     "metadata": {},
     "output_type": "execute_result"
    }
   ],
   "source": [
    "# plot word frequency\n",
    "neg_doc_matrix = vect.transform(df_train[df_train.OUTPUT_LABEL == 0].TEXT)\n",
    "pos_doc_matrix = vect.transform(df_train[df_train.OUTPUT_LABEL == 1].TEXT)\n",
    "neg_tf = np.sum(neg_doc_matrix, axis=0)\n",
    "pos_tf = np.sum(pos_doc_matrix, axis=0)\n",
    "neg = np.squeeze(np.asarray(neg_tf))\n",
    "pos = np.squeeze(np.asarray(pos_tf))\n",
    "\n",
    "term_freq_df = pd.DataFrame([neg, pos], columns=vect.get_feature_names()).transpose()\n",
    "term_freq_df.columns = ['negative', 'positive']\n",
    "term_freq_df['total'] = term_freq_df['negative'] + term_freq_df['positive']\n",
    "term_freq_df.sort_values(by='total', ascending=False).iloc[:10]"
   ]
  },
  {
   "cell_type": "code",
   "execution_count": 34,
   "metadata": {},
   "outputs": [
    {
     "data": {
      "image/png": "[encoded data removed]",
      "text/plain": [
       "<Figure size 720x432 with 1 Axes>"
      ]
     },
     "metadata": {
      "needs_background": "light"
     },
     "output_type": "display_data"
    },
    {
     "data": {
      "image/png": "[encoded data removed]",
      "text/plain": [
       "<Figure size 720x432 with 1 Axes>"
      ]
     },
     "metadata": {
      "needs_background": "light"
     },
     "output_type": "display_data"
    }
   ],
   "source": [
    "# plot word frequency\n",
    "d = pd.Series(term_freq_df.total,\n",
    "              index=term_freq_df.index).sort_values(ascending=False)\n",
    "ax = d[:50].plot(kind='bar', figsize=(10, 6), width=.8, fontsize=14, rot=90, color='g')\n",
    "ax.title.set_size(18)\n",
    "plt.ylabel('count')\n",
    "plt.show()\n",
    "ax = d[50:100].plot(kind='bar', figsize=(10, 6), width=.8, fontsize=14, rot=90, color='g')\n",
    "ax.title.set_size(18)\n",
    "plt.ylabel('count')\n",
    "plt.show()"
   ]
  },
  {
   "cell_type": "code",
   "execution_count": 35,
   "metadata": {},
   "outputs": [],
   "source": [
    "my_stop_words = ['the', 'and', 'to', 'of', 'was', 'with', 'a', 'on', 'in', 'for', 'name',\n",
    "                 'is', 'patient', 's', 'he', 'at', 'as', 'or', 'one', 'she', 'his', 'her', 'am',\n",
    "                 'were', 'you', 'pt', 'pm', 'by', 'be', 'had', 'your', 'this', 'date',\n",
    "                 'from', 'there', 'an', 'that', 'p', 'are', 'have', 'has', 'h', 'but', 'o',\n",
    "                 'namepattern', 'which', 'every', 'also', 'q', 'c', 'x', 'd']"
   ]
  },
  {
   "cell_type": "code",
   "execution_count": 36,
   "metadata": {},
   "outputs": [
    {
     "data": {
      "text/plain": [
       "CountVectorizer(analyzer='word', binary=False, decode_error='strict',\n",
       "        dtype=<class 'numpy.int64'>, encoding='utf-8', input='content',\n",
       "        lowercase=True, max_df=1.0, max_features=3000, min_df=1,\n",
       "        ngram_range=(1, 1), preprocessor=None,\n",
       "        stop_words=['the', 'and', 'to', 'of', 'was', 'with', 'a', 'on', 'in', 'for', 'name', 'is', 'patient', 's', 'he', 'at', 'as', 'or', 'one', 'she', 'his', 'her', 'am', 'were', 'you', 'pt', 'pm', 'by', 'be', 'had', 'your', 'this', 'date', 'from', 'there', 'an', 'that', 'p', 'are', 'have', 'has', 'h', 'but', 'o', 'namepattern', 'which', 'every', 'also', 'q', 'c', 'x', 'd'],\n",
       "        strip_accents=None, token_pattern='(?u)\\\\b\\\\w\\\\w+\\\\b',\n",
       "        tokenizer=<function tokenizer_better at 0x7f0d17ffc9d8>,\n",
       "        vocabulary=None)"
      ]
     },
     "execution_count": 36,
     "metadata": {},
     "output_type": "execute_result"
    }
   ],
   "source": [
    "# bag of words removing stop words\n",
    "vect = CountVectorizer(max_features=3000,\n",
    "                       tokenizer=tokenizer_better,\n",
    "                       stop_words=my_stop_words)\n",
    "vect.fit(df_train.TEXT.values)"
   ]
  },
  {
   "cell_type": "code",
   "execution_count": 38,
   "metadata": {
    "scrolled": true
   },
   "outputs": [],
   "source": [
    "neg_doc_matrix = vect.transform(df_train[df_train.OUTPUT_LABEL == 0].TEXT)\n",
    "pos_doc_matrix = vect.transform(df_train[df_train.OUTPUT_LABEL == 1].TEXT)\n",
    "neg_tf = np.sum(neg_doc_matrix, axis=0)\n",
    "pos_tf = np.sum(pos_doc_matrix, axis=0)\n",
    "neg = np.squeeze(np.asarray(neg_tf))\n",
    "pos = np.squeeze(np.asarray(pos_tf))"
   ]
  },
  {
   "cell_type": "code",
   "execution_count": 39,
   "metadata": {
    "scrolled": true
   },
   "outputs": [
    {
     "data": {
      "text/html": [
       "<div>\n",
       "<style scoped>\n",
       "    .dataframe tbody tr th:only-of-type {\n",
       "        vertical-align: middle;\n",
       "    }\n",
       "\n",
       "    .dataframe tbody tr th {\n",
       "        vertical-align: top;\n",
       "    }\n",
       "\n",
       "    .dataframe thead th {\n",
       "        text-align: right;\n",
       "    }\n",
       "</style>\n",
       "<table border=\"1\" class=\"dataframe\">\n",
       "  <thead>\n",
       "    <tr style=\"text-align: right;\">\n",
       "      <th></th>\n",
       "      <th>positive</th>\n",
       "      <th>total</th>\n",
       "    </tr>\n",
       "  </thead>\n",
       "  <tbody>\n",
       "    <tr>\n",
       "      <th>mg</th>\n",
       "      <td>39045</td>\n",
       "      <td>39045</td>\n",
       "    </tr>\n",
       "    <tr>\n",
       "      <th>tablet</th>\n",
       "      <td>30760</td>\n",
       "      <td>30760</td>\n",
       "    </tr>\n",
       "    <tr>\n",
       "      <th>no</th>\n",
       "      <td>25902</td>\n",
       "      <td>25902</td>\n",
       "    </tr>\n",
       "    <tr>\n",
       "      <th>po</th>\n",
       "      <td>24694</td>\n",
       "      <td>24694</td>\n",
       "    </tr>\n",
       "    <tr>\n",
       "      <th>daily</th>\n",
       "      <td>19642</td>\n",
       "      <td>19642</td>\n",
       "    </tr>\n",
       "    <tr>\n",
       "      <th>sig</th>\n",
       "      <td>19417</td>\n",
       "      <td>19417</td>\n",
       "    </tr>\n",
       "    <tr>\n",
       "      <th>blood</th>\n",
       "      <td>18433</td>\n",
       "      <td>18433</td>\n",
       "    </tr>\n",
       "    <tr>\n",
       "      <th>day</th>\n",
       "      <td>17116</td>\n",
       "      <td>17116</td>\n",
       "    </tr>\n",
       "    <tr>\n",
       "      <th>hospital</th>\n",
       "      <td>16888</td>\n",
       "      <td>16888</td>\n",
       "    </tr>\n",
       "    <tr>\n",
       "      <th>discharge</th>\n",
       "      <td>15777</td>\n",
       "      <td>15777</td>\n",
       "    </tr>\n",
       "  </tbody>\n",
       "</table>\n",
       "</div>"
      ],
      "text/plain": [
       "           positive  total\n",
       "mg            39045  39045\n",
       "tablet        30760  30760\n",
       "no            25902  25902\n",
       "po            24694  24694\n",
       "daily         19642  19642\n",
       "sig           19417  19417\n",
       "blood         18433  18433\n",
       "day           17116  17116\n",
       "hospital      16888  16888\n",
       "discharge     15777  15777"
      ]
     },
     "execution_count": 39,
     "metadata": {},
     "output_type": "execute_result"
    }
   ],
   "source": [
    "term_freq_df = pd.DataFrame([pos], columns=vect.get_feature_names()).transpose()\n",
    "term_freq_df.columns = ['positive']\n",
    "term_freq_df['total'] = term_freq_df['positive']\n",
    "term_freq_df.sort_values(by='total', ascending=False).iloc[:10]"
   ]
  },
  {
   "cell_type": "code",
   "execution_count": 41,
   "metadata": {},
   "outputs": [
    {
     "data": {
      "image/png": "[encoded data removed]",
      "text/plain": [
       "<Figure size 720x432 with 1 Axes>"
      ]
     },
     "metadata": {},
     "output_type": "display_data"
    }
   ],
   "source": [
    "# plot word frequency removing stop words\n",
    "d = pd.Series(term_freq_df.total,\n",
    "              index=term_freq_df.index).sort_values(ascending=False)\n",
    "ax = d[:50].plot(kind='bar', figsize=(10, 6), width=.8, fontsize=14, rot=90, color='g')\n",
    "ax.title.set_size(18)\n",
    "plt.ylabel('count')\n",
    "plt.show()"
   ]
  },
  {
   "cell_type": "code",
   "execution_count": 42,
   "metadata": {},
   "outputs": [
    {
     "data": {
      "text/html": [
       "<div>\n",
       "<style scoped>\n",
       "    .dataframe tbody tr th:only-of-type {\n",
       "        vertical-align: middle;\n",
       "    }\n",
       "\n",
       "    .dataframe tbody tr th {\n",
       "        vertical-align: top;\n",
       "    }\n",
       "\n",
       "    .dataframe thead th {\n",
       "        text-align: right;\n",
       "    }\n",
       "</style>\n",
       "<table border=\"1\" class=\"dataframe\">\n",
       "  <thead>\n",
       "    <tr style=\"text-align: right;\">\n",
       "      <th></th>\n",
       "      <th>negative</th>\n",
       "      <th>total</th>\n",
       "    </tr>\n",
       "  </thead>\n",
       "  <tbody>\n",
       "    <tr>\n",
       "      <th>mg</th>\n",
       "      <td>27718</td>\n",
       "      <td>27718</td>\n",
       "    </tr>\n",
       "    <tr>\n",
       "      <th>no</th>\n",
       "      <td>24760</td>\n",
       "      <td>24760</td>\n",
       "    </tr>\n",
       "    <tr>\n",
       "      <th>tablet</th>\n",
       "      <td>22582</td>\n",
       "      <td>22582</td>\n",
       "    </tr>\n",
       "    <tr>\n",
       "      <th>po</th>\n",
       "      <td>16902</td>\n",
       "      <td>16902</td>\n",
       "    </tr>\n",
       "    <tr>\n",
       "      <th>blood</th>\n",
       "      <td>16127</td>\n",
       "      <td>16127</td>\n",
       "    </tr>\n",
       "    <tr>\n",
       "      <th>discharge</th>\n",
       "      <td>14530</td>\n",
       "      <td>14530</td>\n",
       "    </tr>\n",
       "    <tr>\n",
       "      <th>daily</th>\n",
       "      <td>13736</td>\n",
       "      <td>13736</td>\n",
       "    </tr>\n",
       "    <tr>\n",
       "      <th>sig</th>\n",
       "      <td>13648</td>\n",
       "      <td>13648</td>\n",
       "    </tr>\n",
       "    <tr>\n",
       "      <th>hospital</th>\n",
       "      <td>13446</td>\n",
       "      <td>13446</td>\n",
       "    </tr>\n",
       "    <tr>\n",
       "      <th>day</th>\n",
       "      <td>12963</td>\n",
       "      <td>12963</td>\n",
       "    </tr>\n",
       "  </tbody>\n",
       "</table>\n",
       "</div>"
      ],
      "text/plain": [
       "           negative  total\n",
       "mg            27718  27718\n",
       "no            24760  24760\n",
       "tablet        22582  22582\n",
       "po            16902  16902\n",
       "blood         16127  16127\n",
       "discharge     14530  14530\n",
       "daily         13736  13736\n",
       "sig           13648  13648\n",
       "hospital      13446  13446\n",
       "day           12963  12963"
      ]
     },
     "execution_count": 42,
     "metadata": {},
     "output_type": "execute_result"
    }
   ],
   "source": [
    "term_freq_df = pd.DataFrame([neg], columns=vect.get_feature_names()).transpose()\n",
    "term_freq_df.columns = ['negative']\n",
    "term_freq_df['total'] = term_freq_df['negative']\n",
    "term_freq_df.sort_values(by='total', ascending=False).iloc[:10]"
   ]
  },
  {
   "cell_type": "code",
   "execution_count": 43,
   "metadata": {},
   "outputs": [
    {
     "data": {
      "image/png": "[encoded data removed]",
      "text/plain": [
       "<Figure size 720x432 with 1 Axes>"
      ]
     },
     "metadata": {},
     "output_type": "display_data"
    }
   ],
   "source": [
    "d = pd.Series(term_freq_df.total,\n",
    "              index=term_freq_df.index).sort_values(ascending=False)\n",
    "ax = d[:50].plot(kind='bar', figsize=(10, 6), width=.8, fontsize=14, rot=90, color='g')\n",
    "ax.title.set_size(18)\n",
    "plt.ylabel('count')\n",
    "plt.show()"
   ]
  },
  {
   "cell_type": "code",
   "execution_count": 44,
   "metadata": {},
   "outputs": [],
   "source": [
    "X_train_tf = vect.transform(df_train.TEXT.values)\n",
    "X_valid_tf = vect.transform(df_valid.TEXT.values)\n",
    "\n",
    "y_train = df_train.OUTPUT_LABEL\n",
    "y_valid = df_valid.OUTPUT_LABEL"
   ]
  },
  {
   "cell_type": "code",
   "execution_count": 45,
   "metadata": {},
   "outputs": [],
   "source": [
    "# calculation of metrics\n",
    "\n",
    "def calc_accuracy(y_actual, y_pred, thresh):\n",
    "    return (sum((y_pred > thresh) & (y_actual == 1)) + sum((y_pred < thresh) & (y_actual == 0))) / len(y_actual)\n",
    "\n",
    "\n",
    "def calc_recall(y_actual, y_pred, thresh):\n",
    "    return sum((y_pred > thresh) & (y_actual == 1)) / sum(y_actual)\n",
    "\n",
    "\n",
    "def calc_precision(y_actual, y_pred, thresh):\n",
    "    return sum((y_pred > thresh) & (y_actual == 1)) / sum(y_pred > thresh)\n",
    "\n",
    "\n",
    "def calc_specificity(y_actual, y_pred, thresh):\n",
    "    return sum((y_pred < thresh) & (y_actual == 0)) / sum(y_actual == 0)\n",
    "\n",
    "\n",
    "def calc_prevalence(y_actual):\n",
    "    return sum((y_actual == 1)) / len(y_actual)\n",
    "\n",
    "\n",
    "def calc_specificity(y_actual, y_pred, thresh):\n",
    "    return sum((y_pred < thresh) & (y_actual == 0)) / sum(y_actual == 0)\n",
    "\n",
    "\n",
    "def print_report(y_actual, y_pred, thresh):\n",
    "    auc = roc_auc_score(y_actual, y_pred)\n",
    "    accuracy = accuracy_score(y_actual, (y_pred > thresh))\n",
    "    recall = recall_score(y_actual, (y_pred > thresh))\n",
    "    precision = precision_score(y_actual, (y_pred > thresh))\n",
    "    specificity = calc_specificity(y_actual, y_pred, thresh)\n",
    "    print('AUC:%.3f' % auc)\n",
    "    print('accuracy:%.3f' % accuracy)\n",
    "    print('recall:%.3f' % recall)\n",
    "    print('precision:%.3f' % precision)\n",
    "    print('specificity:%.3f' % specificity)\n",
    "    print('prevalence:%.3f' % calc_prevalence(y_actual))\n",
    "    print(' ')\n",
    "    return auc, accuracy, recall, precision, specificity"
   ]
  },
  {
   "cell_type": "code",
   "execution_count": 46,
   "metadata": {},
   "outputs": [],
   "source": [
    "my_new_stop_words = ['the', 'and', 'to', 'of', 'was', 'with', 'a', 'on', 'in', 'for', 'name',\n",
    "                     'is', 'patient', 's', 'he', 'at', 'as', 'or', 'one', 'she', 'his', 'her', 'am',\n",
    "                     'were', 'you', 'pt', 'pm', 'by', 'be', 'had', 'your', 'this', 'date',\n",
    "                     'from', 'there', 'an', 'that', 'p', 'are', 'have', 'has', 'h', 'but', 'o',\n",
    "                     'namepattern', 'which', 'every', 'also', 'should', 'if', 'it', 'been', 'who', 'during', 'x', 'q',\n",
    "                     'c', 'x', 'd']"
   ]
  },
  {
   "cell_type": "code",
   "execution_count": 47,
   "metadata": {},
   "outputs": [],
   "source": [
    "# bag of words removing new stop words\n",
    "vect = CountVectorizer(lowercase=True, max_features=3000,\n",
    "                       tokenizer=tokenizer_better,\n",
    "                       stop_words=my_new_stop_words)\n",
    "\n",
    "vect.fit(df_train.TEXT.values)\n",
    "\n",
    "X_train_tf = vect.transform(df_train.TEXT.values)\n",
    "X_valid_tf = vect.transform(df_valid.TEXT.values)\n",
    "X_test_tf = vect.transform(df_test.TEXT.values)\n",
    "\n",
    "y_train = df_train.OUTPUT_LABEL\n",
    "y_valid = df_valid.OUTPUT_LABEL\n",
    "y_test = df_test.OUTPUT_LABEL"
   ]
  },
  {
   "cell_type": "code",
   "execution_count": 49,
   "metadata": {},
   "outputs": [
    {
     "name": "stderr",
     "output_type": "stream",
     "text": [
      "/home/rasool/anaconda3/lib/python3.5/site-packages/sklearn/linear_model/logistic.py:432: FutureWarning: Default solver will be changed to 'lbfgs' in 0.22. Specify a solver to silence this warning.\n",
      "  FutureWarning)\n"
     ]
    },
    {
     "data": {
      "text/plain": [
       "LogisticRegression(C=1.0, class_weight=None, dual=False, fit_intercept=True,\n",
       "          intercept_scaling=1, max_iter=100, multi_class='warn',\n",
       "          n_jobs=None, penalty='l2', random_state=42, solver='warn',\n",
       "          tol=0.0001, verbose=0, warm_start=False)"
      ]
     },
     "execution_count": 49,
     "metadata": {},
     "output_type": "execute_result"
    }
   ],
   "source": [
    "# logistic regression\n",
    "lr = LogisticRegression(random_state=42)\n",
    "lr.fit(X_train_tf, y_train)"
   ]
  },
  {
   "cell_type": "code",
   "execution_count": 52,
   "metadata": {},
   "outputs": [
    {
     "name": "stdout",
     "output_type": "stream",
     "text": [
      "Logistic Regression\n",
      "Training:\n",
      "AUC:0.999\n",
      "accuracy:0.984\n",
      "recall:0.976\n",
      "precision:0.993\n",
      "specificity:0.993\n",
      "prevalence:0.500\n",
      " \n",
      "Validation:\n",
      "AUC:0.628\n",
      "accuracy:0.607\n",
      "recall:0.577\n",
      "precision:0.082\n",
      "specificity:0.609\n",
      "prevalence:0.057\n",
      " \n"
     ]
    }
   ],
   "source": [
    "thresh = 0.5\n",
    "\n",
    "y_train_preds = lr.predict_proba(X_train_tf)[:, 1]\n",
    "y_valid_preds = lr.predict_proba(X_valid_tf)[:, 1]\n",
    "\n",
    "print('Logistic Regression')\n",
    "print('Training:')\n",
    "lr_train_auc, lr_train_accuracy, lr_train_recall, \\\n",
    "    lr_train_precision, lr_train_specificity = print_report(y_train, y_train_preds, thresh)\n",
    "print('Validation:')\n",
    "lr_valid_auc, lr_valid_accuracy, lr_valid_recall, \\\n",
    "    lr_valid_precision, lr_valid_specificity = print_report(y_valid, y_valid_preds, thresh)"
   ]
  },
  {
   "cell_type": "code",
   "execution_count": 53,
   "metadata": {},
   "outputs": [
    {
     "data": {
      "text/plain": [
       "KNeighborsClassifier(algorithm='auto', leaf_size=30, metric='minkowski',\n",
       "           metric_params=None, n_jobs=None, n_neighbors=10, p=2,\n",
       "           weights='uniform')"
      ]
     },
     "execution_count": 53,
     "metadata": {},
     "output_type": "execute_result"
    }
   ],
   "source": [
    "# k-nearest neighbors\n",
    "knn = KNeighborsClassifier(n_neighbors=10)\n",
    "knn.fit(X_train_tf, y_train)"
   ]
  },
  {
   "cell_type": "code",
   "execution_count": 54,
   "metadata": {},
   "outputs": [
    {
     "name": "stdout",
     "output_type": "stream",
     "text": [
      "KNN\n",
      "Training:\n",
      "AUC:0.761\n",
      "accuracy:0.673\n",
      "recall:0.525\n",
      "precision:0.745\n",
      "specificity:0.685\n",
      "prevalence:0.500\n",
      " \n",
      "Validation:\n",
      "AUC:0.664\n",
      "accuracy:0.741\n",
      "recall:0.474\n",
      "precision:0.105\n",
      "specificity:0.600\n",
      "prevalence:0.057\n",
      " \n"
     ]
    }
   ],
   "source": [
    "y_train_preds = knn.predict_proba(X_train_tf)[:, 1]\n",
    "y_valid_preds = knn.predict_proba(X_valid_tf)[:, 1]\n",
    "\n",
    "print('KNN')\n",
    "print('Training:')\n",
    "knn_train_auc, knn_train_accuracy, knn_train_recall, \\\n",
    "    knn_train_precision, knn_train_specificity = print_report(y_train, y_train_preds, thresh)\n",
    "print('Validation:')\n",
    "knn_valid_auc, knn_valid_accuracy, knn_valid_recall, \\\n",
    "    knn_valid_precision, knn_valid_specificity = print_report(y_valid, y_valid_preds, thresh)"
   ]
  },
  {
   "cell_type": "code",
   "execution_count": 55,
   "metadata": {},
   "outputs": [
    {
     "data": {
      "text/plain": [
       "DecisionTreeClassifier(class_weight=None, criterion='gini', max_depth=None,\n",
       "            max_features=None, max_leaf_nodes=None,\n",
       "            min_impurity_decrease=0.0, min_impurity_split=None,\n",
       "            min_samples_leaf=1, min_samples_split=2,\n",
       "            min_weight_fraction_leaf=0.0, presort=False, random_state=42,\n",
       "            splitter='best')"
      ]
     },
     "execution_count": 55,
     "metadata": {},
     "output_type": "execute_result"
    }
   ],
   "source": [
    "# Decision Tree\n",
    "tree = DecisionTreeClassifier(random_state=42)\n",
    "tree.fit(X_train_tf, y_train)"
   ]
  },
  {
   "cell_type": "code",
   "execution_count": 56,
   "metadata": {},
   "outputs": [
    {
     "name": "stdout",
     "output_type": "stream",
     "text": [
      "Decision Tree\n",
      "Training:\n",
      "AUC:1.000\n",
      "accuracy:0.990\n",
      "recall:0.979\n",
      "precision:1.000\n",
      "specificity:1.000\n",
      "prevalence:0.500\n",
      " \n",
      "Validation:\n",
      "AUC:0.593\n",
      "accuracy:0.593\n",
      "recall:0.597\n",
      "precision:0.081\n",
      "specificity:0.592\n",
      "prevalence:0.057\n",
      " \n"
     ]
    }
   ],
   "source": [
    "y_train_preds = tree.predict_proba(X_train_tf)[:, 1]\n",
    "y_valid_preds = tree.predict_proba(X_valid_tf)[:, 1]\n",
    "\n",
    "print('Decision Tree')\n",
    "print('Training:')\n",
    "tree_train_auc, tree_train_accuracy, tree_train_recall, tree_train_precision, tree_train_specificity = print_report(\n",
    "    y_train, y_train_preds, thresh)\n",
    "print('Validation:')\n",
    "tree_valid_auc, tree_valid_accuracy, tree_valid_recall, tree_valid_precision, tree_valid_specificity = print_report(\n",
    "    y_valid, y_valid_preds, thresh)"
   ]
  },
  {
   "cell_type": "code",
   "execution_count": 57,
   "metadata": {},
   "outputs": [
    {
     "name": "stderr",
     "output_type": "stream",
     "text": [
      "/home/rasool/anaconda3/lib/python3.5/site-packages/sklearn/ensemble/forest.py:248: FutureWarning: The default value of n_estimators will change from 10 in version 0.20 to 100 in 0.22.\n",
      "  \"10 in version 0.20 to 100 in 0.22.\", FutureWarning)\n"
     ]
    },
    {
     "data": {
      "text/plain": [
       "RandomForestClassifier(bootstrap=True, class_weight=None, criterion='gini',\n",
       "            max_depth=None, max_features='auto', max_leaf_nodes=None,\n",
       "            min_impurity_decrease=0.0, min_impurity_split=None,\n",
       "            min_samples_leaf=1, min_samples_split=2,\n",
       "            min_weight_fraction_leaf=0.0, n_estimators=10, n_jobs=None,\n",
       "            oob_score=False, random_state=42, verbose=0, warm_start=False)"
      ]
     },
     "execution_count": 57,
     "metadata": {},
     "output_type": "execute_result"
    }
   ],
   "source": [
    "# RandomForest\n",
    "rf = RandomForestClassifier(random_state=42)\n",
    "rf.fit(X_train_tf, y_train)"
   ]
  },
  {
   "cell_type": "code",
   "execution_count": 58,
   "metadata": {},
   "outputs": [
    {
     "name": "stdout",
     "output_type": "stream",
     "text": [
      "Random Forest\n",
      "Training:\n",
      "AUC:0.997\n",
      "accuracy:0.978\n",
      "recall:0.960\n",
      "precision:0.996\n",
      "specificity:0.973\n",
      "prevalence:0.500\n",
      " \n",
      "Validation:\n",
      "AUC:0.646\n",
      "accuracy:0.671\n",
      "recall:0.517\n",
      "precision:0.089\n",
      "specificity:0.511\n",
      "prevalence:0.057\n",
      " \n"
     ]
    }
   ],
   "source": [
    "y_train_preds = rf.predict_proba(X_train_tf)[:, 1]\n",
    "y_valid_preds = rf.predict_proba(X_valid_tf)[:, 1]\n",
    "\n",
    "print('Random Forest')\n",
    "print('Training:')\n",
    "rf_train_auc, rf_train_accuracy, rf_train_recall, rf_train_precision, rf_train_specificity = print_report(y_train,\n",
    "                                                                                                          y_train_preds,\n",
    "                                                                                                          thresh)\n",
    "print('Validation:')\n",
    "rf_valid_auc, rf_valid_accuracy, rf_valid_recall, rf_valid_precision, rf_valid_specificity = print_report(y_valid,\n",
    "                                                                                                          y_valid_preds,\n",
    "                                                                                                          thresh)"
   ]
  },
  {
   "cell_type": "code",
   "execution_count": 59,
   "metadata": {},
   "outputs": [
    {
     "data": {
      "text/plain": [
       "GradientBoostingClassifier(criterion='friedman_mse', init=None,\n",
       "              learning_rate=1.0, loss='deviance', max_depth=3,\n",
       "              max_features=None, max_leaf_nodes=None,\n",
       "              min_impurity_decrease=0.0, min_impurity_split=None,\n",
       "              min_samples_leaf=1, min_samples_split=2,\n",
       "              min_weight_fraction_leaf=0.0, n_estimators=100,\n",
       "              n_iter_no_change=None, presort='auto', random_state=42,\n",
       "              subsample=1.0, tol=0.0001, validation_fraction=0.1,\n",
       "              verbose=0, warm_start=False)"
      ]
     },
     "execution_count": 59,
     "metadata": {},
     "output_type": "execute_result"
    }
   ],
   "source": [
    "# Gradient Boosting Classifier\n",
    "gbc = GradientBoostingClassifier(n_estimators=100, learning_rate=1.0,\n",
    "                                 max_depth=3, random_state=42)\n",
    "gbc.fit(X_train_tf, y_train)"
   ]
  },
  {
   "cell_type": "code",
   "execution_count": 60,
   "metadata": {},
   "outputs": [
    {
     "name": "stdout",
     "output_type": "stream",
     "text": [
      "Gradient Boosting Classifier\n",
      "Training:\n",
      "AUC:0.988\n",
      "accuracy:0.940\n",
      "recall:0.932\n",
      "precision:0.948\n",
      "specificity:0.949\n",
      "prevalence:0.500\n",
      " \n",
      "Validation:\n",
      "AUC:0.663\n",
      "accuracy:0.623\n",
      "recall:0.613\n",
      "precision:0.090\n",
      "specificity:0.623\n",
      "prevalence:0.057\n",
      " \n"
     ]
    }
   ],
   "source": [
    "y_train_preds = gbc.predict_proba(X_train_tf)[:, 1]\n",
    "y_valid_preds = gbc.predict_proba(X_valid_tf)[:, 1]\n",
    "\n",
    "print('Gradient Boosting Classifier')\n",
    "print('Training:')\n",
    "gbc_train_auc, gbc_train_accuracy, gbc_train_recall, gbc_train_precision, gbc_train_specificity = print_report(y_train,\n",
    "                                                                                                               y_train_preds,\n",
    "                                                                                                               thresh)\n",
    "print('Validation:')\n",
    "gbc_valid_auc, gbc_valid_accuracy, gbc_valid_recall, gbc_valid_precision, gbc_valid_specificity = print_report(y_valid,\n",
    "                                                                                                               y_valid_preds,\n",
    "                                                                                                               thresh)"
   ]
  },
  {
   "cell_type": "code",
   "execution_count": 61,
   "metadata": {},
   "outputs": [
    {
     "data": {
      "text/plain": [
       "GaussianNB(priors=None, var_smoothing=1e-09)"
      ]
     },
     "execution_count": 61,
     "metadata": {},
     "output_type": "execute_result"
    }
   ],
   "source": [
    "# Naive Bayes\n",
    "nb = GaussianNB()\n",
    "nb.fit(X_train_tf.toarray(), y_train)"
   ]
  },
  {
   "cell_type": "code",
   "execution_count": 62,
   "metadata": {},
   "outputs": [
    {
     "name": "stdout",
     "output_type": "stream",
     "text": [
      "Naive Bayes\n",
      "Training:\n",
      "AUC:0.714\n",
      "accuracy:0.661\n",
      "recall:0.564\n",
      "precision:0.700\n",
      "specificity:0.759\n",
      "prevalence:0.500\n",
      " \n",
      "Validation:\n",
      "AUC:0.668\n",
      "accuracy:0.709\n",
      "recall:0.538\n",
      "precision:0.104\n",
      "specificity:0.720\n",
      "prevalence:0.057\n",
      " \n"
     ]
    }
   ],
   "source": [
    "y_train_preds = nb.predict_proba(X_train_tf.toarray())[:, 1]\n",
    "y_valid_preds = nb.predict_proba(X_valid_tf.toarray())[:, 1]\n",
    "\n",
    "print('Naive Bayes')\n",
    "print('Training:')\n",
    "nb_train_auc, nb_train_accuracy, nb_train_recall, nb_train_precision, nb_train_specificity = print_report(y_train,\n",
    "                                                                                                          y_train_preds,\n",
    "                                                                                                          thresh)\n",
    "print('Validation:')\n",
    "nb_valid_auc, nb_valid_accuracy, nb_valid_recall, nb_valid_precision, nb_valid_specificity = print_report(y_valid,\n",
    "                                                                                                          y_valid_preds,\n",
    "                                                                                                          thresh)"
   ]
  },
  {
   "cell_type": "code",
   "execution_count": 63,
   "metadata": {},
   "outputs": [
    {
     "name": "stderr",
     "output_type": "stream",
     "text": [
      "/home/rasool/anaconda3/lib/python3.5/site-packages/sklearn/linear_model/stochastic_gradient.py:144: FutureWarning: max_iter and tol parameters have been added in SGDClassifier in 0.19. If both are left unset, they default to max_iter=5 and tol=None. If tol is not None, max_iter defaults to max_iter=1000. From 0.21, default max_iter will be 1000, and default tol will be 1e-3.\n",
      "  FutureWarning)\n"
     ]
    },
    {
     "data": {
      "text/plain": [
       "SGDClassifier(alpha=0.1, average=False, class_weight=None,\n",
       "       early_stopping=False, epsilon=0.1, eta0=0.0, fit_intercept=True,\n",
       "       l1_ratio=0.15, learning_rate='optimal', loss='log', max_iter=None,\n",
       "       n_iter=None, n_iter_no_change=5, n_jobs=None, penalty='l2',\n",
       "       power_t=0.5, random_state=42, shuffle=True, tol=None,\n",
       "       validation_fraction=0.1, verbose=0, warm_start=False)"
      ]
     },
     "execution_count": 63,
     "metadata": {},
     "output_type": "execute_result"
    }
   ],
   "source": [
    "# Stochastic Gradient Descend\n",
    "sgdc = SGDClassifier(loss='log', alpha=0.1, random_state=42)\n",
    "sgdc.fit(X_train_tf, y_train)"
   ]
  },
  {
   "cell_type": "code",
   "execution_count": 64,
   "metadata": {},
   "outputs": [
    {
     "name": "stdout",
     "output_type": "stream",
     "text": [
      "Stochastic Gradient Descend\n",
      "Training:\n",
      "AUC:0.805\n",
      "accuracy:0.661\n",
      "recall:0.382\n",
      "precision:0.864\n",
      "specificity:0.940\n",
      "prevalence:0.500\n",
      " \n",
      "Validation:\n",
      "AUC:0.613\n",
      "accuracy:0.830\n",
      "recall:0.288\n",
      "precision:0.113\n",
      "specificity:0.863\n",
      "prevalence:0.057\n",
      " \n"
     ]
    }
   ],
   "source": [
    "y_train_preds = sgdc.predict_proba(X_train_tf)[:, 1]\n",
    "y_valid_preds = sgdc.predict_proba(X_valid_tf)[:, 1]\n",
    "\n",
    "print('Stochastic Gradient Descend')\n",
    "print('Training:')\n",
    "sgdc_train_auc, sgdc_train_accuracy, sgdc_train_recall, sgdc_train_precision, sgdc_train_specificity = print_report(\n",
    "    y_train, y_train_preds, thresh)\n",
    "print('Validation:')\n",
    "sgdc_valid_auc, sgdc_valid_accuracy, sgdc_valid_recall, sgdc_valid_precision, sgdc_valid_specificity = print_report(\n",
    "    y_valid, y_valid_preds, thresh)"
   ]
  },
  {
   "cell_type": "code",
   "execution_count": 65,
   "metadata": {},
   "outputs": [],
   "source": [
    "# join all results\n",
    "df_results = pd.DataFrame(\n",
    "    {'classifier': ['KNN', 'KNN', 'LR', 'LR', 'SGD', 'SGD', 'NB', 'NB', 'DT', 'DT', 'RF', 'RF', 'GB', 'GB'],\n",
    "     'data_set': ['train', 'valid'] * 7,\n",
    "     'auc': [knn_train_auc, knn_valid_auc, lr_train_auc, lr_valid_auc, sgdc_train_auc, sgdc_valid_auc, nb_train_auc,\n",
    "             nb_valid_auc, tree_train_auc, tree_valid_auc, rf_train_auc, rf_valid_auc, gbc_valid_auc, gbc_valid_auc, ],\n",
    "     'accuracy': [knn_train_accuracy, knn_valid_accuracy, lr_train_accuracy, lr_valid_accuracy, sgdc_train_accuracy,\n",
    "                  sgdc_valid_accuracy, nb_train_accuracy, nb_valid_accuracy, tree_train_accuracy, tree_valid_accuracy,\n",
    "                  rf_train_accuracy, rf_valid_accuracy, gbc_valid_accuracy, gbc_valid_accuracy, ],\n",
    "     'recall': [knn_train_recall, knn_valid_recall, lr_train_recall, lr_valid_recall, sgdc_train_recall,\n",
    "                sgdc_valid_recall, nb_train_recall, nb_valid_recall, tree_train_recall, tree_valid_recall,\n",
    "                rf_train_recall, rf_valid_recall, gbc_valid_recall, gbc_valid_recall, ],\n",
    "     'precision': [knn_train_precision, knn_valid_precision, lr_train_precision, lr_valid_precision,\n",
    "                   sgdc_train_precision, sgdc_valid_precision, nb_train_precision, nb_valid_precision,\n",
    "                   tree_train_precision, tree_valid_precision, rf_train_precision, rf_valid_precision, gbc_valid_auc,\n",
    "                   gbc_valid_precision, ],\n",
    "     'specificity': [knn_train_specificity, knn_valid_specificity, lr_train_specificity, lr_valid_specificity,\n",
    "                     sgdc_train_specificity, sgdc_valid_specificity, nb_train_specificity, nb_valid_specificity,\n",
    "                     tree_train_specificity, tree_valid_specificity, rf_train_specificity, rf_valid_specificity,\n",
    "                     gbc_valid_specificity, gbc_valid_specificity, ]})"
   ]
  },
  {
   "cell_type": "code",
   "execution_count": 67,
   "metadata": {},
   "outputs": [
    {
     "data": {
      "image/png": "[encoded data removed]",
      "text/plain": [
       "<Figure size 432x288 with 1 Axes>"
      ]
     },
     "metadata": {},
     "output_type": "display_data"
    }
   ],
   "source": [
    "# plot results\n",
    "ax = sns.barplot(x=\"classifier\", y=\"auc\", hue=\"data_set\", data=df_results)\n",
    "ax.set_xlabel('Classifier', fontsize=15)\n",
    "ax.set_ylabel('AUC', fontsize=15)\n",
    "ax.tick_params(labelsize=15)\n",
    "\n",
    "plt.legend(bbox_to_anchor=(1.05, 1), loc=2, borderaxespad=0., fontsize=15)\n",
    "plt.show()"
   ]
  },
  {
   "cell_type": "code",
   "execution_count": 68,
   "metadata": {},
   "outputs": [
    {
     "name": "stdout",
     "output_type": "stream",
     "text": [
      "{'C': [1e-05, 3e-05, 0.0001, 0.0003, 0.001, 0.003]}\n"
     ]
    }
   ],
   "source": [
    "# random search for hyperparameters\n",
    "Cs = [0.00001, 0.00003, 0.0001, 0.0003, 0.001, 0.003]\n",
    "\n",
    "random_grid = {'C': Cs}\n",
    "auc_scoring = make_scorer(roc_auc_score)\n",
    "lr_random = RandomizedSearchCV(estimator=lr, param_distributions=random_grid,\n",
    "                               n_iter=20, cv=5, scoring=auc_scoring,\n",
    "                               verbose=1, random_state=42)\n",
    "print(random_grid)"
   ]
  },
  {
   "cell_type": "code",
   "execution_count": null,
   "metadata": {},
   "outputs": [],
   "source": [
    "t1 = time.time()\n",
    "lr_random.fit(X_train_tf, y_train)\n",
    "t2 = time.time()\n",
    "print(t2 - t1)"
   ]
  },
  {
   "cell_type": "code",
   "execution_count": 72,
   "metadata": {},
   "outputs": [
    {
     "data": {
      "text/plain": [
       "{'C': 0.0003}"
      ]
     },
     "execution_count": 72,
     "metadata": {},
     "output_type": "execute_result"
    }
   ],
   "source": [
    "lr_random.best_params_"
   ]
  },
  {
   "cell_type": "code",
   "execution_count": 73,
   "metadata": {},
   "outputs": [
    {
     "name": "stdout",
     "output_type": "stream",
     "text": [
      "Baseline Logistic Regresion\n",
      "Training AUC:0.999\n",
      "Validation AUC:0.628\n",
      "Optimized Logistic Regresion\n",
      "Training AUC:0.796\n",
      "Validation AUC:0.715\n"
     ]
    }
   ],
   "source": [
    "y_train_preds = lr.predict_proba(X_train_tf)[:, 1]\n",
    "y_valid_preds = lr.predict_proba(X_valid_tf)[:, 1]\n",
    "\n",
    "print('Baseline Logistic Regresion')\n",
    "lr_train_auc_base = roc_auc_score(y_train, y_train_preds)\n",
    "lr_valid_auc_base = roc_auc_score(y_valid, y_valid_preds)\n",
    "\n",
    "print('Training AUC:%.3f' % (lr_train_auc_base))\n",
    "print('Validation AUC:%.3f' % (lr_valid_auc_base))\n",
    "\n",
    "print('Optimized Logistic Regresion')\n",
    "y_train_preds_random = lr_random.best_estimator_.predict_proba(X_train_tf)[:, 1]\n",
    "y_valid_preds_random = lr_random.best_estimator_.predict_proba(X_valid_tf)[:, 1]\n",
    "\n",
    "lr_train_auc = roc_auc_score(y_train, y_train_preds_random)\n",
    "lr_valid_auc = roc_auc_score(y_valid, y_valid_preds_random)\n",
    "\n",
    "print('Training AUC:%.3f' % (lr_train_auc))\n",
    "print('Validation AUC:%.3f' % (lr_valid_auc))"
   ]
  },
  {
   "cell_type": "code",
   "execution_count": null,
   "metadata": {},
   "outputs": [],
   "source": [
    "# random forest hyperparameters\n",
    "\n",
    "# number of trees\n",
    "n_estimators = range(50, 500, 50)\n",
    "# maximum number of features to use at each split\n",
    "max_features = ['auto', 'sqrt']\n",
    "# maximum depth of the tree\n",
    "max_depth = range(1, 20, 2)\n",
    "# minimum number of samples to split a node\n",
    "min_samples_split = range(2, 20, 2)\n",
    "# criterion for evaluating a split\n",
    "criterion = ['gini', 'entropy']\n",
    "\n",
    "# random grid\n",
    "\n",
    "random_grid = {'n_estimators': n_estimators,\n",
    "               'max_features': max_features,\n",
    "               'max_depth': max_depth,\n",
    "               'min_samples_split': min_samples_split,\n",
    "               'criterion': criterion}\n",
    "\n",
    "auc_scoring = make_scorer(roc_auc_score)\n",
    "rf_random = RandomizedSearchCV(estimator=rf, param_distributions=random_grid,\n",
    "                               n_iter=20, cv=5, scoring=auc_scoring,\n",
    "                               verbose=1, random_state=42, n_jobs=-1)\n",
    "print(random_grid)"
   ]
  },
  {
   "cell_type": "code",
   "execution_count": 77,
   "metadata": {},
   "outputs": [
    {
     "name": "stdout",
     "output_type": "stream",
     "text": [
      "Fitting 5 folds for each of 20 candidates, totalling 100 fits\n"
     ]
    },
    {
     "name": "stderr",
     "output_type": "stream",
     "text": [
      "[Parallel(n_jobs=-1)]: Using backend LokyBackend with 8 concurrent workers.\n",
      "[Parallel(n_jobs=-1)]: Done  34 tasks      | elapsed:  1.6min\n",
      "[Parallel(n_jobs=-1)]: Done 100 out of 100 | elapsed:  3.6min finished\n"
     ]
    },
    {
     "name": "stdout",
     "output_type": "stream",
     "text": [
      "239.6144895553589\n"
     ]
    }
   ],
   "source": [
    "t1 = time.time()\n",
    "rf_random.fit(X_train_tf, y_train)\n",
    "t2 = time.time()\n",
    "print(t2 - t1)"
   ]
  },
  {
   "cell_type": "code",
   "execution_count": 78,
   "metadata": {},
   "outputs": [
    {
     "data": {
      "text/plain": [
       "{'criterion': 'entropy',\n",
       " 'max_depth': 19,\n",
       " 'max_features': 'sqrt',\n",
       " 'min_samples_split': 4,\n",
       " 'n_estimators': 350}"
      ]
     },
     "execution_count": 78,
     "metadata": {},
     "output_type": "execute_result"
    }
   ],
   "source": [
    "rf_random.best_params_"
   ]
  },
  {
   "cell_type": "code",
   "execution_count": 79,
   "metadata": {},
   "outputs": [
    {
     "name": "stdout",
     "output_type": "stream",
     "text": [
      "Baseline Random Forest\n",
      "Training AUC:0.997\n",
      "Validation AUC:0.646\n",
      "Optimized Random Forest\n",
      "Training AUC:0.997\n",
      "Validation AUC:0.723\n"
     ]
    }
   ],
   "source": [
    "y_train_preds = rf.predict_proba(X_train_tf)[:, 1]\n",
    "y_valid_preds = rf.predict_proba(X_valid_tf)[:, 1]\n",
    "\n",
    "print('Baseline Random Forest')\n",
    "rf_train_auc_base = roc_auc_score(y_train, y_train_preds)\n",
    "rf_valid_auc_base = roc_auc_score(y_valid, y_valid_preds)\n",
    "\n",
    "print('Training AUC:%.3f' % (rf_train_auc_base))\n",
    "print('Validation AUC:%.3f' % (rf_valid_auc_base))\n",
    "\n",
    "print('Optimized Random Forest')\n",
    "y_train_preds_random = rf_random.best_estimator_.predict_proba(X_train_tf)[:, 1]\n",
    "y_valid_preds_random = rf_random.best_estimator_.predict_proba(X_valid_tf)[:, 1]\n",
    "\n",
    "rf_train_auc = roc_auc_score(y_train, y_train_preds_random)\n",
    "rf_valid_auc = roc_auc_score(y_valid, y_valid_preds_random)\n",
    "\n",
    "print('Training AUC:%.3f' % (rf_train_auc))\n",
    "print('Validation AUC:%.3f' % (rf_valid_auc))"
   ]
  },
  {
   "cell_type": "code",
   "execution_count": 80,
   "metadata": {},
   "outputs": [
    {
     "name": "stdout",
     "output_type": "stream",
     "text": [
      "95.2521743774414\n"
     ]
    }
   ],
   "source": [
    "# stochastic gradient descend hyperparameters\n",
    "penalty = ['none', 'l2', 'l1']\n",
    "max_iter = range(50, 500, 50)\n",
    "alpha = [0.0001, 0.01, 0.03, 0.1, 0.3, 0.4, 0.5, 0.7, 0.9]\n",
    "random_grid_sgdc = {'penalty': penalty,\n",
    "                    'max_iter': max_iter,\n",
    "                    'alpha': alpha}\n",
    "\n",
    "sgdc_random = RandomizedSearchCV(estimator=sgdc, param_distributions=random_grid_sgdc,\n",
    "                                 n_iter=20, cv=5, scoring=auc_scoring, verbose=0,\n",
    "                                 random_state=42, n_jobs=-1)\n",
    "\n",
    "t1 = time.time()\n",
    "sgdc_random.fit(X_train_tf, y_train)\n",
    "t2 = time.time()\n",
    "print(t2 - t1)"
   ]
  },
  {
   "cell_type": "code",
   "execution_count": 81,
   "metadata": {},
   "outputs": [
    {
     "data": {
      "text/plain": [
       "{'alpha': 0.9, 'max_iter': 400, 'penalty': 'l2'}"
      ]
     },
     "execution_count": 81,
     "metadata": {},
     "output_type": "execute_result"
    }
   ],
   "source": [
    "sgdc_random.best_params_"
   ]
  },
  {
   "cell_type": "code",
   "execution_count": 82,
   "metadata": {},
   "outputs": [
    {
     "name": "stdout",
     "output_type": "stream",
     "text": [
      "Baseline sgdc\n",
      "Training AUC:0.805\n",
      "Validation AUC:0.613\n",
      "Optimized sgdc\n",
      "Training AUC:0.791\n",
      "Validation AUC:0.715\n"
     ]
    }
   ],
   "source": [
    "y_train_preds = sgdc.predict_proba(X_train_tf)[:, 1]\n",
    "y_valid_preds = sgdc.predict_proba(X_valid_tf)[:, 1]\n",
    "\n",
    "print('Baseline sgdc')\n",
    "sgdc_train_auc_base = roc_auc_score(y_train, y_train_preds)\n",
    "sgdc_valid_auc_base = roc_auc_score(y_valid, y_valid_preds)\n",
    "\n",
    "print('Training AUC:%.3f' % (sgdc_train_auc_base))\n",
    "print('Validation AUC:%.3f' % (sgdc_valid_auc_base))\n",
    "print('Optimized sgdc')\n",
    "y_train_preds_random = sgdc_random.best_estimator_.predict_proba(X_train_tf)[:, 1]\n",
    "y_valid_preds_random = sgdc_random.best_estimator_.predict_proba(X_valid_tf)[:, 1]\n",
    "sgdc_train_auc = roc_auc_score(y_train, y_train_preds_random)\n",
    "sgdc_valid_auc = roc_auc_score(y_valid, y_valid_preds_random)\n",
    "\n",
    "print('Training AUC:%.3f' % (sgdc_train_auc))\n",
    "print('Validation AUC:%.3f' % (sgdc_valid_auc))"
   ]
  },
  {
   "cell_type": "code",
   "execution_count": 83,
   "metadata": {},
   "outputs": [
    {
     "name": "stdout",
     "output_type": "stream",
     "text": [
      "Fitting 2 folds for each of 20 candidates, totalling 40 fits\n"
     ]
    },
    {
     "name": "stderr",
     "output_type": "stream",
     "text": [
      "[Parallel(n_jobs=-1)]: Using backend LokyBackend with 8 concurrent workers.\n",
      "[Parallel(n_jobs=-1)]: Done  25 tasks      | elapsed:  2.9min\n",
      "[Parallel(n_jobs=-1)]: Done  40 out of  40 | elapsed:  3.9min finished\n"
     ]
    },
    {
     "name": "stdout",
     "output_type": "stream",
     "text": [
      "264.2717990875244\n"
     ]
    }
   ],
   "source": [
    "# gradient boosting classifier hyperparameters\n",
    "\n",
    "# number of trees\n",
    "n_estimators = range(200, 350, 50)\n",
    "# maximum depth of the tree\n",
    "max_depth = range(1, 4, 1)\n",
    "# learning rate\n",
    "learning_rate = [0.1, 0.15, 0.2, 0.3]\n",
    "\n",
    "random_grid_gbc = {'n_estimators': n_estimators,\n",
    "                   'max_depth': max_depth,\n",
    "                   'learning_rate': learning_rate}\n",
    "\n",
    "# create the randomized search cross-validation\n",
    "gbc_random = RandomizedSearchCV(estimator=gbc, param_distributions=random_grid_gbc,\n",
    "                                n_iter=20, cv=2, scoring=auc_scoring,\n",
    "                                verbose=2, random_state=42, n_jobs=-1)\n",
    "\n",
    "t1 = time.time()\n",
    "gbc_random.fit(X_train_tf, y_train)\n",
    "t2 = time.time()\n",
    "print(t2 - t1)"
   ]
  },
  {
   "cell_type": "code",
   "execution_count": 84,
   "metadata": {},
   "outputs": [
    {
     "data": {
      "text/plain": [
       "{'learning_rate': 0.2, 'max_depth': 1, 'n_estimators': 250}"
      ]
     },
     "execution_count": 84,
     "metadata": {},
     "output_type": "execute_result"
    }
   ],
   "source": [
    "gbc_random.best_params_"
   ]
  },
  {
   "cell_type": "code",
   "execution_count": 85,
   "metadata": {},
   "outputs": [
    {
     "name": "stdout",
     "output_type": "stream",
     "text": [
      "Baseline gbc\n",
      "Training AUC:0.988\n",
      "Validation AUC:0.663\n",
      "Optimized gbc\n",
      "Training AUC:0.824\n",
      "Validation AUC:0.711\n"
     ]
    }
   ],
   "source": [
    "y_train_preds = gbc.predict_proba(X_train_tf)[:, 1]\n",
    "y_valid_preds = gbc.predict_proba(X_valid_tf)[:, 1]\n",
    "\n",
    "print('Baseline gbc')\n",
    "gbc_train_auc_base = roc_auc_score(y_train, y_train_preds)\n",
    "gbc_valid_auc_base = roc_auc_score(y_valid, y_valid_preds)\n",
    "\n",
    "print('Training AUC:%.3f' % (gbc_train_auc_base))\n",
    "print('Validation AUC:%.3f' % (gbc_valid_auc_base))\n",
    "\n",
    "print('Optimized gbc')\n",
    "y_train_preds_random = gbc_random.best_estimator_.predict_proba(X_train_tf)[:, 1]\n",
    "y_valid_preds_random = gbc_random.best_estimator_.predict_proba(X_valid_tf)[:, 1]\n",
    "gbc_train_auc = roc_auc_score(y_train, y_train_preds_random)\n",
    "gbc_valid_auc = roc_auc_score(y_valid, y_valid_preds_random)\n",
    "\n",
    "print('Training AUC:%.3f' % (gbc_train_auc))\n",
    "print('Validation AUC:%.3f' % (gbc_valid_auc))"
   ]
  },
  {
   "cell_type": "code",
   "execution_count": 86,
   "metadata": {},
   "outputs": [
    {
     "name": "stdout",
     "output_type": "stream",
     "text": [
      "Fitting 5 folds for each of 4 candidates, totalling 20 fits\n"
     ]
    },
    {
     "name": "stderr",
     "output_type": "stream",
     "text": [
      "/home/rasool/anaconda3/lib/python3.5/site-packages/sklearn/model_selection/_search.py:271: UserWarning: The total space of parameters 4 is smaller than n_iter=20. Running 4 iterations. For exhaustive searches, use GridSearchCV.\n",
      "  % (grid_size, self.n_iter, grid_size), UserWarning)\n",
      "[Parallel(n_jobs=-1)]: Using backend LokyBackend with 8 concurrent workers.\n",
      "[Parallel(n_jobs=-1)]: Done  16 out of  20 | elapsed:   41.6s remaining:   10.4s\n"
     ]
    },
    {
     "name": "stdout",
     "output_type": "stream",
     "text": [
      "51.577139377593994\n"
     ]
    },
    {
     "name": "stderr",
     "output_type": "stream",
     "text": [
      "[Parallel(n_jobs=-1)]: Done  20 out of  20 | elapsed:   51.6s finished\n"
     ]
    }
   ],
   "source": [
    "# k-nearest neighbors hyperparameters\n",
    "\n",
    "# number of trees\n",
    "n_neighbors = range(30, 70, 10)\n",
    "# random grid\n",
    "random_grid_knn = {'n_neighbors': n_neighbors}\n",
    "\n",
    "# create the randomized search cross-validation\n",
    "knn_random = RandomizedSearchCV(estimator=knn, param_distributions=random_grid_knn,\n",
    "                                n_iter=20, cv=5, scoring=auc_scoring,\n",
    "                                verbose=2, random_state=42, n_jobs=-1)\n",
    "\n",
    "t1 = time.time()\n",
    "knn_random.fit(X_train_tf, y_train)\n",
    "t2 = time.time()\n",
    "print(t2 - t1)"
   ]
  },
  {
   "cell_type": "code",
   "execution_count": 87,
   "metadata": {},
   "outputs": [
    {
     "data": {
      "text/plain": [
       "{'n_neighbors': 50}"
      ]
     },
     "execution_count": 87,
     "metadata": {},
     "output_type": "execute_result"
    }
   ],
   "source": [
    "knn_random.best_params_"
   ]
  },
  {
   "cell_type": "code",
   "execution_count": 88,
   "metadata": {},
   "outputs": [
    {
     "name": "stdout",
     "output_type": "stream",
     "text": [
      "Baseline knn\n",
      "Training AUC:0.761\n",
      "Validation AUC:0.664\n",
      "Optimized knn\n",
      "Training AUC:0.824\n",
      "Validation AUC:0.711\n"
     ]
    }
   ],
   "source": [
    "y_train_preds = knn.predict_proba(X_train_tf)[:, 1]\n",
    "y_valid_preds = knn.predict_proba(X_valid_tf)[:, 1]\n",
    "\n",
    "print('Baseline knn')\n",
    "knn_train_auc_base = roc_auc_score(y_train, y_train_preds)\n",
    "knn_valid_auc_base = roc_auc_score(y_valid, y_valid_preds)\n",
    "\n",
    "print('Training AUC:%.3f' % (knn_train_auc_base))\n",
    "print('Validation AUC:%.3f' % (knn_valid_auc_base))\n",
    "\n",
    "print('Optimized knn')\n",
    "y_train_preds_random = knn_random.best_estimator_.predict_proba(X_train_tf)[:, 1]\n",
    "y_valid_preds_random = knn_random.best_estimator_.predict_proba(X_valid_tf)[:, 1]\n",
    "knn_train_auc = roc_auc_score(y_train, y_train_preds_random)\n",
    "knn_valid_auc = roc_auc_score(y_valid, y_valid_preds_random)\n",
    "\n",
    "print('Training AUC:%.3f' % (gbc_train_auc))\n",
    "print('Validation AUC:%.3f' % (gbc_valid_auc))"
   ]
  },
  {
   "cell_type": "code",
   "execution_count": 89,
   "metadata": {},
   "outputs": [],
   "source": [
    "# join optimized results\n",
    "df_results = pd.DataFrame({'classifier': ['SGD', 'SGD', 'RF', 'RF', 'GB', 'GB', 'LR', 'LR', 'KNN', 'KNN'],\n",
    "                           'data_set': ['base', 'optimized'] * 5,\n",
    "                           'auc': [sgdc_valid_auc_base, sgdc_valid_auc,\n",
    "                                   rf_valid_auc_base, rf_valid_auc,\n",
    "                                   gbc_valid_auc_base, gbc_valid_auc,\n",
    "                                   lr_valid_auc_base, lr_valid_auc,\n",
    "                                   knn_valid_auc_base, knn_valid_auc],\n",
    "                           })"
   ]
  },
  {
   "cell_type": "code",
   "execution_count": 91,
   "metadata": {},
   "outputs": [
    {
     "data": {
      "image/png": "[encoded data removed]",
      "text/plain": [
       "<Figure size 432x288 with 1 Axes>"
      ]
     },
     "metadata": {},
     "output_type": "display_data"
    }
   ],
   "source": [
    "# plot results\n",
    "ax = sns.barplot(x=\"classifier\", y=\"auc\", hue=\"data_set\", data=df_results)\n",
    "ax.set_xlabel('Classifier', fontsize=12)\n",
    "ax.set_ylabel('AUC', fontsize=12)\n",
    "ax.tick_params(labelsize=12)\n",
    "\n",
    "plt.setp(ax, yticks=np.arange(0, 1, step=0.1))\n",
    "plt.legend(loc='upper right', borderaxespad=0., fontsize=13)\n",
    "\n",
    "plt.show()"
   ]
  },
  {
   "cell_type": "code",
   "execution_count": 92,
   "metadata": {},
   "outputs": [],
   "source": [
    "X_test_tf = vect.transform(df_test.TEXT.values)\n",
    "y_test = df_test.OUTPUT_LABEL"
   ]
  },
  {
   "cell_type": "code",
   "execution_count": 93,
   "metadata": {},
   "outputs": [],
   "source": [
    "model = rf_random.best_estimator_\n",
    "y_train_preds = model.predict_proba(X_train_tf)[:, 1]\n",
    "y_valid_preds = model.predict_proba(X_valid_tf)[:, 1]\n",
    "y_test_preds = model.predict_proba(X_test_tf)[:, 1]"
   ]
  },
  {
   "cell_type": "code",
   "execution_count": 94,
   "metadata": {},
   "outputs": [
    {
     "name": "stdout",
     "output_type": "stream",
     "text": [
      "Train prevalence(n = 4184): 0.500\n",
      "Valid prevalence(n = 7667): 0.057\n",
      "Test prevalence(n = 7667): 0.062\n",
      "Train AUC:0.791\n",
      "Valid AUC:0.715\n",
      "Test AUC:0.691\n",
      "Train accuracy:0.722\n",
      "Valid accuracy:0.672\n",
      "Test accuracy:0.673\n",
      "Train recall:0.703\n",
      "Valid recall:0.654\n",
      "Test recall:0.632\n",
      "Train precision:0.730\n",
      "Valid precision:0.108\n",
      "Test precision:0.114\n",
      "Train specificity:0.740\n",
      "Valid specificity:0.673\n",
      "Test specificity:0.675\n"
     ]
    },
    {
     "data": {
      "image/png": "[encoded data removed]",
      "text/plain": [
       "<Figure size 432x288 with 1 Axes>"
      ]
     },
     "metadata": {},
     "output_type": "display_data"
    }
   ],
   "source": [
    "from sklearn.metrics import roc_curve\n",
    "from sklearn.metrics import roc_auc_score\n",
    "\n",
    "model = sgdc_random.best_estimator_\n",
    "y_train_preds = model.predict_proba(X_train_tf)[:, 1]\n",
    "y_valid_preds = model.predict_proba(X_valid_tf)[:, 1]\n",
    "y_test_preds = model.predict_proba(X_test_tf)[:, 1]\n",
    "\n",
    "fpr_train, tpr_train, thresholds_train = roc_curve(y_train, y_train_preds)\n",
    "fpr_valid, tpr_valid, thresholds_valid = roc_curve(y_valid, y_valid_preds)\n",
    "fpr_test, tpr_test, thresholds_test = roc_curve(y_test, y_test_preds)\n",
    "\n",
    "thresh = 0.5\n",
    "\n",
    "auc_train = roc_auc_score(y_train, y_train_preds)\n",
    "auc_valid = roc_auc_score(y_valid, y_valid_preds)\n",
    "auc_test = roc_auc_score(y_test, y_test_preds)\n",
    "\n",
    "print('Train prevalence(n = %d): %.3f' % (len(y_train), sum(y_train) / len(y_train)))\n",
    "print('Valid prevalence(n = %d): %.3f' % (len(y_valid), sum(y_valid) / len(y_valid)))\n",
    "print('Test prevalence(n = %d): %.3f' % (len(y_test), sum(y_test) / len(y_test)))\n",
    "\n",
    "print('Train AUC:%.3f' % auc_train)\n",
    "print('Valid AUC:%.3f' % auc_valid)\n",
    "print('Test AUC:%.3f' % auc_test)\n",
    "\n",
    "print('Train accuracy:%.3f' % calc_accuracy(y_train, y_train_preds, thresh))\n",
    "print('Valid accuracy:%.3f' % calc_accuracy(y_valid, y_valid_preds, thresh))\n",
    "print('Test accuracy:%.3f' % calc_accuracy(y_test, y_test_preds, thresh))\n",
    "\n",
    "print('Train recall:%.3f' % calc_recall(y_train, y_train_preds, thresh))\n",
    "print('Valid recall:%.3f' % calc_recall(y_valid, y_valid_preds, thresh))\n",
    "print('Test recall:%.3f' % calc_recall(y_test, y_test_preds, thresh))\n",
    "\n",
    "print('Train precision:%.3f' % calc_precision(y_train, y_train_preds, thresh))\n",
    "print('Valid precision:%.3f' % calc_precision(y_valid, y_valid_preds, thresh))\n",
    "print('Test precision:%.3f' % calc_precision(y_test, y_test_preds, thresh))\n",
    "\n",
    "print('Train specificity:%.3f' % calc_specificity(y_train, y_train_preds, thresh))\n",
    "print('Valid specificity:%.3f' % calc_specificity(y_valid, y_valid_preds, thresh))\n",
    "print('Test specificity:%.3f' % calc_specificity(y_test, y_test_preds, thresh))\n",
    "\n",
    "plt.plot(fpr_train, tpr_train, 'r-', label='Train AUC: %.2f' % auc_train)\n",
    "plt.plot(fpr_valid, tpr_valid, 'b-', label='Test AUC: %.2f' % auc_valid)\n",
    "\n",
    "plt.plot([0, 1], [0, 1], '-k')\n",
    "plt.xlabel('False Positive Rate')\n",
    "plt.ylabel('True Positive Rate')\n",
    "plt.legend()\n",
    "plt.show()"
   ]
  },
  {
   "cell_type": "code",
   "execution_count": 95,
   "metadata": {},
   "outputs": [
    {
     "name": "stdout",
     "output_type": "stream",
     "text": [
      "Train prevalence(n = 4184): 0.500\n",
      "Valid prevalence(n = 7667): 0.057\n",
      "Test prevalence(n = 7667): 0.062\n",
      "Train AUC:0.796\n",
      "Valid AUC:0.715\n",
      "Test AUC:0.692\n",
      "Train accuracy:0.727\n",
      "Valid accuracy:0.679\n",
      "Test accuracy:0.679\n",
      "Train recall:0.700\n",
      "Valid recall:0.645\n",
      "Test recall:0.619\n",
      "Train precision:0.740\n",
      "Valid precision:0.109\n",
      "Test precision:0.114\n",
      "Train specificity:0.754\n",
      "Valid specificity:0.681\n",
      "Test specificity:0.683\n"
     ]
    },
    {
     "data": {
      "image/png": "[encoded data removed]",
      "text/plain": [
       "<Figure size 432x288 with 1 Axes>"
      ]
     },
     "metadata": {},
     "output_type": "display_data"
    }
   ],
   "source": [
    "from sklearn.metrics import roc_curve\n",
    "from sklearn.metrics import roc_auc_score\n",
    "\n",
    "model = lr_random.best_estimator_\n",
    "y_train_preds = model.predict_proba(X_train_tf)[:, 1]\n",
    "y_valid_preds = model.predict_proba(X_valid_tf)[:, 1]\n",
    "y_test_preds = model.predict_proba(X_test_tf)[:, 1]\n",
    "\n",
    "fpr_train, tpr_train, thresholds_train = roc_curve(y_train, y_train_preds)\n",
    "fpr_valid, tpr_valid, thresholds_valid = roc_curve(y_valid, y_valid_preds)\n",
    "fpr_test, tpr_test, thresholds_test = roc_curve(y_test, y_test_preds)\n",
    "\n",
    "thresh = 0.5\n",
    "\n",
    "auc_train = roc_auc_score(y_train, y_train_preds)\n",
    "auc_valid = roc_auc_score(y_valid, y_valid_preds)\n",
    "auc_test = roc_auc_score(y_test, y_test_preds)\n",
    "\n",
    "print('Train prevalence(n = %d): %.3f' % (len(y_train), sum(y_train) / len(y_train)))\n",
    "print('Valid prevalence(n = %d): %.3f' % (len(y_valid), sum(y_valid) / len(y_valid)))\n",
    "print('Test prevalence(n = %d): %.3f' % (len(y_test), sum(y_test) / len(y_test)))\n",
    "\n",
    "print('Train AUC:%.3f' % auc_train)\n",
    "print('Valid AUC:%.3f' % auc_valid)\n",
    "print('Test AUC:%.3f' % auc_test)\n",
    "\n",
    "print('Train accuracy:%.3f' % calc_accuracy(y_train, y_train_preds, thresh))\n",
    "print('Valid accuracy:%.3f' % calc_accuracy(y_valid, y_valid_preds, thresh))\n",
    "print('Test accuracy:%.3f' % calc_accuracy(y_test, y_test_preds, thresh))\n",
    "\n",
    "print('Train recall:%.3f' % calc_recall(y_train, y_train_preds, thresh))\n",
    "print('Valid recall:%.3f' % calc_recall(y_valid, y_valid_preds, thresh))\n",
    "print('Test recall:%.3f' % calc_recall(y_test, y_test_preds, thresh))\n",
    "\n",
    "print('Train precision:%.3f' % calc_precision(y_train, y_train_preds, thresh))\n",
    "print('Valid precision:%.3f' % calc_precision(y_valid, y_valid_preds, thresh))\n",
    "print('Test precision:%.3f' % calc_precision(y_test, y_test_preds, thresh))\n",
    "\n",
    "print('Train specificity:%.3f' % calc_specificity(y_train, y_train_preds, thresh))\n",
    "print('Valid specificity:%.3f' % calc_specificity(y_valid, y_valid_preds, thresh))\n",
    "print('Test specificity:%.3f' % calc_specificity(y_test, y_test_preds, thresh))\n",
    "\n",
    "plt.plot(fpr_train, tpr_train, 'r-', label='Train AUC: %.2f' % auc_train)\n",
    "plt.plot(fpr_valid, tpr_valid, 'b-', label='Test AUC: %.2f' % auc_valid)\n",
    "\n",
    "plt.plot([0, 1], [0, 1], '-k')\n",
    "plt.xlabel('False Positive Rate')\n",
    "plt.ylabel('True Positive Rate')\n",
    "plt.legend()\n",
    "plt.show()"
   ]
  },
  {
   "cell_type": "code",
   "execution_count": 96,
   "metadata": {},
   "outputs": [
    {
     "name": "stdout",
     "output_type": "stream",
     "text": [
      "Train prevalence(n = 4184): 0.500\n",
      "Valid prevalence(n = 7667): 0.057\n",
      "Test prevalence(n = 7667): 0.062\n",
      "Train AUC:0.824\n",
      "Valid AUC:0.711\n",
      "Test AUC:0.691\n",
      "Train accuracy:0.744\n",
      "Valid accuracy:0.680\n",
      "Test accuracy:0.685\n",
      "Train recall:0.717\n",
      "Valid recall:0.629\n",
      "Test recall:0.604\n",
      "Train precision:0.759\n",
      "Valid precision:0.107\n",
      "Test precision:0.114\n",
      "Train specificity:0.772\n",
      "Valid specificity:0.683\n",
      "Test specificity:0.690\n"
     ]
    },
    {
     "data": {
      "image/png": "[encoded data removed]",
      "text/plain": [
       "<Figure size 432x288 with 1 Axes>"
      ]
     },
     "metadata": {},
     "output_type": "display_data"
    }
   ],
   "source": [
    "from sklearn.metrics import roc_curve\n",
    "from sklearn.metrics import roc_auc_score\n",
    "\n",
    "model = gbc_random.best_estimator_\n",
    "y_train_preds = model.predict_proba(X_train_tf)[:, 1]\n",
    "y_valid_preds = model.predict_proba(X_valid_tf)[:, 1]\n",
    "y_test_preds = model.predict_proba(X_test_tf)[:, 1]\n",
    "\n",
    "fpr_train, tpr_train, thresholds_train = roc_curve(y_train, y_train_preds)\n",
    "fpr_valid, tpr_valid, thresholds_valid = roc_curve(y_valid, y_valid_preds)\n",
    "fpr_test, tpr_test, thresholds_test = roc_curve(y_test, y_test_preds)\n",
    "\n",
    "thresh = 0.5\n",
    "\n",
    "auc_train = roc_auc_score(y_train, y_train_preds)\n",
    "auc_valid = roc_auc_score(y_valid, y_valid_preds)\n",
    "auc_test = roc_auc_score(y_test, y_test_preds)\n",
    "\n",
    "print('Train prevalence(n = %d): %.3f' % (len(y_train), sum(y_train) / len(y_train)))\n",
    "print('Valid prevalence(n = %d): %.3f' % (len(y_valid), sum(y_valid) / len(y_valid)))\n",
    "print('Test prevalence(n = %d): %.3f' % (len(y_test), sum(y_test) / len(y_test)))\n",
    "\n",
    "print('Train AUC:%.3f' % auc_train)\n",
    "print('Valid AUC:%.3f' % auc_valid)\n",
    "print('Test AUC:%.3f' % auc_test)\n",
    "\n",
    "print('Train accuracy:%.3f' % calc_accuracy(y_train, y_train_preds, thresh))\n",
    "print('Valid accuracy:%.3f' % calc_accuracy(y_valid, y_valid_preds, thresh))\n",
    "print('Test accuracy:%.3f' % calc_accuracy(y_test, y_test_preds, thresh))\n",
    "\n",
    "print('Train recall:%.3f' % calc_recall(y_train, y_train_preds, thresh))\n",
    "print('Valid recall:%.3f' % calc_recall(y_valid, y_valid_preds, thresh))\n",
    "print('Test recall:%.3f' % calc_recall(y_test, y_test_preds, thresh))\n",
    "\n",
    "print('Train precision:%.3f' % calc_precision(y_train, y_train_preds, thresh))\n",
    "print('Valid precision:%.3f' % calc_precision(y_valid, y_valid_preds, thresh))\n",
    "print('Test precision:%.3f' % calc_precision(y_test, y_test_preds, thresh))\n",
    "\n",
    "print('Train specificity:%.3f' % calc_specificity(y_train, y_train_preds, thresh))\n",
    "print('Valid specificity:%.3f' % calc_specificity(y_valid, y_valid_preds, thresh))\n",
    "print('Test specificity:%.3f' % calc_specificity(y_test, y_test_preds, thresh))\n",
    "\n",
    "plt.plot(fpr_train, tpr_train, 'r-', label='Train AUC: %.2f' % auc_train)\n",
    "plt.plot(fpr_valid, tpr_valid, 'b-', label='Valid AUC: %.2f' % auc_valid)\n",
    "plt.plot(fpr_test, tpr_test, 'g-', label='Test AUC: %.2f' % auc_test)\n",
    "\n",
    "plt.plot([0, 1], [0, 1], '-k')\n",
    "plt.xlabel('False Positive Rate')\n",
    "plt.ylabel('True Positive Rate')\n",
    "plt.legend()\n",
    "plt.show()"
   ]
  },
  {
   "cell_type": "code",
   "execution_count": 98,
   "metadata": {},
   "outputs": [
    {
     "data": {
      "image/png": "[encoded data removed]",
      "text/plain": [
       "<Figure size 720x432 with 2 Axes>"
      ]
     },
     "metadata": {},
     "output_type": "display_data"
    }
   ],
   "source": [
    "# plot feature importance\n",
    "def get_most_important_features(vectorizer, model, n=5):\n",
    "    index_to_word = {v: k for k, v in vectorizer.vocabulary_.items()}\n",
    "\n",
    "    # loop for each class\n",
    "    classes = {}\n",
    "    for class_index in range(model.coef_.shape[0]):\n",
    "        word_importances = [(el, index_to_word[i]) for i, el in enumerate(model.coef_[class_index])]\n",
    "        sorted_coeff = sorted(word_importances, key=lambda x: x[0], reverse=True)\n",
    "        tops = sorted(sorted_coeff[:n], key=lambda x: x[0])\n",
    "        bottom = sorted_coeff[-n:]\n",
    "        classes[class_index] = {\n",
    "            'tops': tops,\n",
    "            'bottom': bottom\n",
    "        }\n",
    "    return classes\n",
    "\n",
    "\n",
    "def plot_important_words(top_scores, top_words, bottom_scores, bottom_words, name):\n",
    "    y_pos = np.arange(len(top_words))\n",
    "    top_pairs = [(a, b) for a, b in zip(top_words, top_scores)]\n",
    "    top_pairs = sorted(top_pairs, key=lambda x: x[1])\n",
    "\n",
    "    bottom_pairs = [(a, b) for a, b in zip(bottom_words, bottom_scores)]\n",
    "    bottom_pairs = sorted(bottom_pairs, key=lambda x: x[1], reverse=True)\n",
    "\n",
    "    top_words = [a[0] for a in top_pairs]\n",
    "    top_scores = [a[1] for a in top_pairs]\n",
    "\n",
    "    bottom_words = [a[0] for a in bottom_pairs]\n",
    "    bottom_scores = [a[1] for a in bottom_pairs]\n",
    "\n",
    "    fig = plt.figure(figsize=(10, 6))\n",
    "\n",
    "    plt.subplot(121)\n",
    "    plt.barh(y_pos, bottom_scores, align='center', alpha=0.7)\n",
    "    plt.title('Negative', fontsize=18)\n",
    "    plt.yticks(y_pos, bottom_words, fontsize=12)\n",
    "    plt.suptitle('Key words', fontsize=14)\n",
    "    plt.xlabel('Importance', fontsize=18)\n",
    "\n",
    "    plt.subplot(122)\n",
    "    plt.barh(y_pos, top_scores, align='center', alpha=0.7)\n",
    "    plt.title('Positive', fontsize=18)\n",
    "    plt.yticks(y_pos, top_words, fontsize=12)\n",
    "    plt.suptitle(name, fontsize=14)\n",
    "    plt.xlabel('Importance', fontsize=18)\n",
    "\n",
    "    plt.subplots_adjust(wspace=0.8)\n",
    "    plt.show()\n",
    "\n",
    "\n",
    "importance = get_most_important_features(vect, lr_random.best_estimator_, 20)\n",
    "\n",
    "top_scores = [a[0] for a in importance[0]['tops']]\n",
    "top_words = [a[1] for a in importance[0]['tops']]\n",
    "bottom_scores = [a[0] for a in importance[0]['bottom']]\n",
    "bottom_words = [a[1] for a in importance[0]['bottom']]\n",
    "\n",
    "plot_important_words(top_scores, top_words, bottom_scores, bottom_words, \"Most important words\")"
   ]
  }
 ],
 "metadata": {
  "kernelspec": {
   "display_name": "Python [default]",
   "language": "python",
   "name": "python3"
  },
  "language_info": {
   "codemirror_mode": {
    "name": "ipython",
    "version": 3
   },
   "file_extension": ".py",
   "mimetype": "text/x-python",
   "name": "python",
   "nbconvert_exporter": "python",
   "pygments_lexer": "ipython3",
   "version": "3.5.6"
  }
 },
 "nbformat": 4,
 "nbformat_minor": 2
}
